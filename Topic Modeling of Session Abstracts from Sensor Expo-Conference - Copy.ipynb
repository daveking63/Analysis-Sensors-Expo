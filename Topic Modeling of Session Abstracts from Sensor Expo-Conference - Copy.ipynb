{
 "cells": [
  {
   "cell_type": "code",
   "execution_count": 1,
   "metadata": {},
   "outputs": [
    {
     "data": {
      "application/javascript": [
       "\n",
       "IPython.OutputArea.prototype._should_scroll = function(lines) {\n",
       "    return false;\n",
       "}"
      ],
      "text/plain": [
       "<IPython.core.display.Javascript object>"
      ]
     },
     "metadata": {},
     "output_type": "display_data"
    }
   ],
   "source": [
    "%%javascript\n",
    "\n",
    "IPython.OutputArea.prototype._should_scroll = function(lines) {\n",
    "    return false;\n",
    "}"
   ]
  },
  {
   "cell_type": "code",
   "execution_count": 2,
   "metadata": {},
   "outputs": [],
   "source": [
    "# this declaration enables multiple outputs from the cells in the notebook\n",
    "from IPython.core.interactiveshell import InteractiveShell\n",
    "InteractiveShell.ast_node_interactivity = \"all\""
   ]
  },
  {
   "cell_type": "markdown",
   "metadata": {},
   "source": [
    "<h2>Topic Modeling of the Content from the 2018 Sensors Expo & Conference Program</h2>\n",
    "\n",
    "<h3>Introduction</h3>\n",
    "\n",
    "<i>Topic modeling</i> can be described as a \"method for finding a group of words (i.e a <i>topic</i>) from a collection of documents that best represents the information in the collection. It can also be thought of as a form of text mining – a way to obtain recurring patterns of words in textual material.\"\n",
    "\n",
    "In this topic modeling exercise, some of the key questions are: \n",
    "\n",
    "<ol>\n",
    "    <li>Is there a relatively short list of topics that capture the essense of conference content?</li>\n",
    "    <li>If there is a shortlist, are there differences among the sessions with respect to these topics?</li>\n",
    "    <li>Similarly, are there differences among the tracks with respect to these topics?</li>\n",
    "</ol>\n",
    "\n",
    "Given that the conference is organized around tracks and sessions, you'd expect the answers to questions 2 and 3 to be 'yes.'\n",
    "\n",
    "In the context of larger conferences, like the Sensor Expo/Conference, with multiple tracks, sessions, and presentations that are scheduled over multiple days, topic modeling can potentially provide practical assistance. Creatively applied, topic modeling could:\n",
    "\n",
    "<ul>\n",
    "<li>help organizers develop and schedule tracks and sessions with more uniform content and discover gaps in coverage.</li>\n",
    "<li>assist presenters in producing abstracts and presentations/papers more in line with track and session content and, in those cases where presenters have to submit to particular tracks/sessions, assist in determine to which tracks and sessions they should apply.</li>\n",
    "<li>help attendees discover and determine tracks and topics of interest, as well as assisting in putting together personalized conference schedules that meet their interests.</li>\n",
    "</ul>\n",
    "\n",
    "There are a variety of techniques for finding topics in a corpus of text. The technique we will explore is known as <i>non-negative matrix factorization (NMF)</i>. Briefly stated, NMF is based on \"multivariate analysis and linear algebra where a matrix V is factorized into (usually) two matrices W and H, with the property that all three matrices have no negative elements. This non-negativity makes the resulting matrices easier to inspect.\" In our case, the matrix V is an NxM document-term matrix, W is a NxP document-topic weight matrix with N documents and P topic weights for each document, and H is an PxM matrix with P topic weights for each of the M term. Together, the product of derived values for W x H reproduces the original matrix V as closely as possible.\n",
    "\n",
    "Obviously, the starting point for this technique is the document-term matrix V. Shortly, we'll see that the basis of the rows in this matrix is a 'bag of lemmas' for each session abstract that produced at the end of the Text Analysis notebook in this projects and stored in a JSON file.\n"
   ]
  },
  {
   "cell_type": "markdown",
   "metadata": {},
   "source": [
    "<h3><a class=\"anchor\" id=\"toc\">Table of Contents</a></h3>\n",
    "\n",
    "1. [Session Abstract Lemmas: Reading the JSON file and Converting it to a Dictionary](#jsonDict)<br>\n",
    "   [Structure of the Session Abstracts Dictionary](#structure sessAbstractsDict)<br>\n",
    "   [Earlier Results from Text Analysis Notebook](#earlier results)<br>\n",
    "   [Refining and storing the List of Lemmas](#refining lemmas)<br>\n",
    "2. [Converting Raw Frequencies to TFIDF Weights](#tfidf)<br>\n",
    "   [Sklearn TfidfVectorizer: Feature Extraction](#tfidfVectorizer)<br>\n",
    "3. [Clustering and Visualization: Similarities and Differences among Documents](#clustering and visualization)<br>\n",
    "   [Measuring Distance: Focus on Cosine Similarity](#distance)<br>\n",
    "   [Heat Maps: Color coded view of Similarities](#heatmap)<br>\n",
    "   [Dendrogram: Display of Hiearchical Clustering](#dendrogram)<br>\n",
    "4. [Topic Modeling: Non-Negative Matrix Factorization](#nmf)<br>\n",
    "   [Sklearn Decomposition with NMF](#decomposition)<br>\n",
    "   [Exploring the Results of NMF](#nmf results)<br>\n",
    "   [Topics and their Terms - the H Matrix](#topics and terms)<br>\n",
    "   [Documents and their Topics - the W Matrix](#docs and topics)<br>\n",
    "   [Visualizing Document Topic Weights: Stacked Vertical Bar Charts](#bar charts)<br>\n",
    "   [Summary Results of Topic Analysis: Top 10 Lemmas and Session Titles by Topics](#summary results)<br>\n",
    "   [Concluding Remarks](#concluding remarks)<br>\n",
    "5. [Next Step](#next step)<br>"
   ]
  },
  {
   "cell_type": "markdown",
   "metadata": {},
   "source": [
    "<a class=\"anchor\" id=\"jsonDict\"></a>\n",
    "<h3>Session Abstract Lemmas: Reading the JSON file and Converting it to a Dictionary</h3>\n",
    "* [Return to TOC](#toc)"
   ]
  },
  {
   "cell_type": "code",
   "execution_count": 3,
   "metadata": {},
   "outputs": [],
   "source": [
    "import json\n",
    "filePath = 'c:/users/davek/' # the name of the directory where the JSON file is stored \n",
    "dictFile = filePath + 'sessAbstractsDict.json'\n",
    "with open(dictFile) as f:\n",
    "   sessAbstractsLemmaDict = json.loads(f.read())"
   ]
  },
  {
   "cell_type": "markdown",
   "metadata": {},
   "source": [
    "To verify that the loading and conversion has occurred, we can check the type of 'SessAbstractsLemmaDict', it's length (i.e. number of sessions in the Sensor Expo/Conference), and it's keys."
   ]
  },
  {
   "cell_type": "code",
   "execution_count": 4,
   "metadata": {},
   "outputs": [
    {
     "name": "stdout",
     "output_type": "stream",
     "text": [
      "Type for sessAbstractsLemmaDict:  <class 'dict'>\n",
      "\n",
      "Number of Sessions:  132\n",
      "\n",
      "Keys for the Sessions in sessAbstractsLemmaDict:\n",
      "['S00T00', 'S01T00', 'S02T00', 'S03T00', 'S04T00', 'S06T00', 'S00T01', 'S00T02', 'S01T02', 'S02T02', 'S03T02', 'S04T02', 'S05T02', 'S00T03', 'S01T03', 'S02T03', 'S03T03', 'S04T03', 'S05T03', 'S00T04', 'S01T04', 'S02T04', 'S03T04', 'S04T04', 'S05T04', 'S06T04', 'S07T04', 'S08T04', 'S09T04', 'S00T05', 'S01T05', 'S02T05', 'S03T05', 'S04T05', 'S00T06', 'S00T07', 'S01T07', 'S02T07', 'S03T07', 'S04T07', 'S05T07', 'S06T07', 'S07T07', 'S08T07', 'S09T07', 'S10T07', 'S11T07', 'S12T07', 'S13T07', 'S14T07', 'S00T08', 'S01T08', 'S02T08', 'S03T08', 'S04T08', 'S00T09', 'S01T09', 'S02T09', 'S03T09', 'S04T09', 'S05T09', 'S06T09', 'S07T09', 'S08T09', 'S09T09', 'S10T09', 'S11T09', 'S12T09', 'S13T09', 'S14T09', 'S15T09', 'S16T09', 'S17T09', 'S18T09', 'S19T09', 'S20T09', 'S21T09', 'S22T09', 'S23T09', 'S24T09', 'S25T09', 'S26T09', 'S27T09', 'S28T09', 'S29T09', 'S30T09', 'S31T09', 'S32T09', 'S33T09', 'S34T09', 'S35T09', 'S36T09', 'S37T09', 'S38T09', 'S39T09', 'S00T10', 'S01T10', 'S02T10', 'S03T10', 'S00T11', 'S01T11', 'S02T11', 'S03T11', 'S00T12', 'S01T12', 'S02T12', 'S03T12', 'S04T12', 'S05T12', 'S06T12', 'S07T12', 'S08T12', 'S09T12', 'S10T12', 'S11T12', 'S12T12', 'S13T12', 'S14T12', 'S15T12', 'S16T12', 'S17T12', 'S18T12', 'S19T12', 'S20T12', 'S21T12', 'S22T12', 'S23T12', 'S24T12', 'S25T12', 'S26T12', 'S27T12', 'S28T12']\n"
     ]
    }
   ],
   "source": [
    "print('Type for sessAbstractsLemmaDict: ', type(sessAbstractsLemmaDict))\n",
    "print('')\n",
    "print('Number of Sessions: ', len(sessAbstractsLemmaDict))\n",
    "print('')\n",
    "print('Keys for the Sessions in sessAbstractsLemmaDict:')\n",
    "print(list(sessAbstractsLemmaDict.keys()))"
   ]
  },
  {
   "cell_type": "markdown",
   "metadata": {},
   "source": [
    "<a class=\"anchor\" id=\"structure sessAbstractsDict\"></a>\n",
    "<h3>Structure of the Session Abstracts Dictionary</h3>\n",
    "* [Return to TOC](#toc)\n",
    "\n",
    "There were 132 sessions in the conference program and subsequently 132 abstracts. In this analysis each session has an ID or key whose format is 'SnnTmm' where 'nn' is the number of the session within a track and 'mm' is the number of the track. In both cases the numbers are <i>0-based</i>. So, for instance, 'S00T00' is the first session within the first track, while the last session 'S28T12' is the 29th session in the 13th track. \\[Note: One of the session abstracts, 'S00T05', was eliminated because it was a perfunctionary summary session of the previous day's events\\]. \n",
    "\n",
    "Within this dictionary each session is itself a dictionary' with two keys -- 'sessLemmas' and 'sessLemmaBOW'.  A print of the types for each element, shows that 'sessLemmas' is a 'list', while 'sessLemmaBOW' is a dictionary. A sample of the their respective contents is shown for session 'S00T00'. As the sample indicates, 'sessLemmas' is a simple listing of the lemmas in the order in which they appear in the abstract. In contrast 'sessLemmaBOW' is a 'bag of lemmas' indicating the frequency with which the individual lemmas occur in the abstract. So, for instance, in the abstract for session 'S00T00' the lemma 'complimentary' appears once and the lemma 'mplab' appears 3 times."
   ]
  },
  {
   "cell_type": "code",
   "execution_count": 5,
   "metadata": {},
   "outputs": [
    {
     "name": "stdout",
     "output_type": "stream",
     "text": [
      "sessAbstractsLemmaDict Keys:  dict_keys(['sessLemmas', 'sessLemmaBOW'])\n",
      "Type for type sessLemmas:  <class 'list'>\n",
      "Type for type sessLemmaBOW:  <class 'dict'>\n",
      "\n",
      "Example sessLemmas for S00T00:\n",
      "['complimentary', 'mplab', 'xpress', 'eval', 'board', 'attendees', 'learn', 'develop', 'embedded', 'sensor', 'node', 'prototype', 'capture', 'humidity', 'temperature', 'pressure', 'data', 'speed', 'configuration', 'microchip', 'microcontroller', 'bosch', 'bme280sensor', 'use', 'mplab', 'code', 'configurator', 'mcc', 'graphical', 'programming', 'interface', 'tool', 'generate', 'free', 'library', 'simple', 'apis', 'attendee', 'spend', 'time', 'work', 'solution', 'instead', 'mess', 'register', 'communication', 'protocol', 'attendee', 'need', 'install', 'tool', 'computer', 'entire', 'workshop', 'use', 'cloud', 'base', 'mplab', 'xpress', 'ide', 'sensor', 'data', 'graph', 'computer', 'via', 'on-board', 'usb-to-serial', 'adapter', 'attendee', 'show', 'move', 'solution', 'wireless', 'communication', 'method', 'use', 'tool', 'transform', 'simple', 'wired', 'sensor', 'iot', 'wearable', 'solution']\n",
      "\n",
      "Example sessLemmaBOW for S00T00:\n",
      "{'complimentary': 1, 'mplab': 3, 'xpress': 2, 'eval': 1, 'board': 1, 'attendees': 1, 'learn': 1, 'develop': 1, 'embedded': 1, 'sensor': 3, 'node': 1, 'prototype': 1, 'capture': 1, 'humidity': 1, 'temperature': 1, 'pressure': 1, 'data': 2, 'speed': 1, 'configuration': 1, 'microchip': 1, 'microcontroller': 1, 'bosch': 1, 'bme280sensor': 1, 'use': 3, 'code': 1, 'configurator': 1, 'mcc': 1, 'graphical': 1, 'programming': 1, 'interface': 1, 'tool': 3, 'generate': 1, 'free': 1, 'library': 1, 'simple': 2, 'apis': 1, 'attendee': 3, 'spend': 1, 'time': 1, 'work': 1, 'solution': 3, 'instead': 1, 'mess': 1, 'register': 1, 'communication': 2, 'protocol': 1, 'need': 1, 'install': 1, 'computer': 2, 'entire': 1, 'workshop': 1, 'cloud': 1, 'base': 1, 'ide': 1, 'graph': 1, 'via': 1, 'on-board': 1, 'usb-to-serial': 1, 'adapter': 1, 'show': 1, 'move': 1, 'wireless': 1, 'method': 1, 'transform': 1, 'wired': 1, 'iot': 1, 'wearable': 1}\n"
     ]
    }
   ],
   "source": [
    "print('sessAbstractsLemmaDict Keys: ', sessAbstractsLemmaDict['S00T00'].keys())\n",
    "print('Type for type sessLemmas: ', type(sessAbstractsLemmaDict['S00T00']['sessLemmas']))\n",
    "print('Type for type sessLemmaBOW: ', type(sessAbstractsLemmaDict['S00T00']['sessLemmaBOW']))\n",
    "print('')\n",
    "print('Example sessLemmas for S00T00:')\n",
    "print(sessAbstractsLemmaDict['S00T00']['sessLemmas'])\n",
    "print('')\n",
    "print('Example sessLemmaBOW for S00T00:')\n",
    "print(sessAbstractsLemmaDict['S00T00']['sessLemmaBOW'])"
   ]
  },
  {
   "cell_type": "markdown",
   "metadata": {},
   "source": [
    "<a class=\"anchor\" id=\"earlier results\"></a>\n",
    "<h3>Earlier Results from Text Analysis Notebook</h3>\n",
    "* [Return to TOC](#toc)\n",
    "\n",
    "To reiterate earlier results, the text analysis in the preceeding notebook revealed that:\n",
    "\n",
    "<ol> \n",
    "    <li><i>Substantial Lexical Diversity</i>: The total number of lemmas in the corpus of (all) abstracts was 6470, while the number of unique lemmas (aka the vocabulary) was 2107.  That's a ratio of ~3 to 1 which means that on average each lemma was only used 3 times. Basically, the implication is that on the average there is minimal overlap from one document to the next.</li><br>\n",
    "    <li><i>Substantial % of the Corpus covered by a Small Collection of Lemmas</i>:  For example, the 200 most frequent lemmas, which is about 10% of the vocabulary, account for a little under 50% of the total lemmas used in the corpus. The implication is that we can potentially use a small set of lemmas to make distinctions among the documents and topics.</li><br>\n",
    "    <li><i>Substantial % of the Vocabulary accounts for small % of the Corpus</i>: In the session abstracts, close to 60% of the lemmas occur only once (these are known as <i>hapax legomenon</i>). Together, they only account for 18% (=1171/6470) of the corpus. Similarly, if you combine all the lemmas that occur 3 times or less, the figures are 83% and 26%, respectively. In general, these infrequent lemmas are of minor utility in distinguishing the content of one session abstract from another.</li>\n",
    "</ol>\n",
    "\n",
    "Taken together, the overall implication is that we can simplify the task of creating a document-term matrix by focusing on those terms that occur most frequently. Below is a list of the 245 most frequent lemmas in the corpus of session abstracts. 245 may seem a bit random, but it actually covers all those lemmas that occur 6 times or more in the corpus. These 245 lemmas will serve as the starting for contructing the document-term matrix."
   ]
  },
  {
   "cell_type": "code",
   "execution_count": 6,
   "metadata": {},
   "outputs": [
    {
     "name": "stdout",
     "output_type": "stream",
     "text": [
      "List of Top Lemmas - those occurring 6 times or more:\n",
      "\n",
      "[('sensor', 157), ('iot', 88), ('application', 77), ('session', 77), ('technology', 69), ('use', 67), ('system', 57), ('data', 46), ('solution', 46), ('provide', 44), ('device', 39), ('new', 35), ('power', 35), ('learn', 34), ('network', 33), ('include', 31), ('industrial', 30), ('need', 29), ('industry', 29), ('market', 28), ('make', 28), ('smart', 28), ('sense', 26), ('development', 26), ('enable', 25), ('develop', 24), ('environment', 22), ('also', 21), ('challenge', 21), ('security', 21), ('process', 21), ('attendee', 20), ('many', 19), ('discuss', 19), ('connectivity', 19), ('control', 18), ('design', 17), ('connect', 16), ('business', 16), ('battery', 16), ('available', 16), ('technique', 16), ('potential', 16), ('create', 16), ('platform', 16), ('embed', 15), ('source', 15), ('energy', 15), ('automotive', 15), ('gas', 15), ('work', 14), ('world', 14), ('address', 14), ('well', 14), ('life', 14), ('case', 14), ('presentation', 14), ('small', 14), ('amazon', 14), ('freertos', 14), ('software', 14), ('time', 13), ('cloud', 13), ('future', 13), ('internet', 13), ('requirement', 13), ('research', 13), ('overview', 13), ('analytics', 13), ('machine', 13), ('high', 13), ('build', 13), ('require', 13), ('thing', 13), ('low', 13), ('communication', 12), ('wireless', 12), ('wearable', 12), ('vehicle', 12), ('wide', 12), ('key', 12), ('look', 12), ('today', 12), ('service', 12), ('cost', 12), ('company', 12), ('base', 11), ('ai', 11), ('capability', 11), ('understand', 11), ('innovative', 11), ('recent', 11), ('help', 11), ('current', 11), ('offer', 11), ('performance', 11), ('food', 11), ('code', 10), ('generate', 10), ('autonomous', 10), ('advance', 10), ('approach', 10), ('edge', 10), ('support', 10), ('type', 10), ('consumer', 10), ('safety', 10), ('optical', 10), ('measurement', 10), ('monitor', 10), ('area', 10), ('growth', 10), ('one', 10), ('range', 9), ('analysis', 9), ('us', 9), ('solar', 9), ('end', 9), ('change', 9), ('intelligent', 9), ('year', 9), ('lidar', 9), ('get', 9), ('start', 9), ('city', 9), ('reduce', 9), ('decision', 9), ('block', 9), ('different', 9), ('trust', 9), ('exist', 9), ('lead', 9), ('camera', 9), ('review', 9), ('monitoring', 9), ('focus', 9), ('size', 9), ('flexible', 9), ('run', 9), ('air', 9), ('light', 9), ('board', 8), ('pressure', 8), ('tool', 8), ('information', 8), ('opportunity', 8), ('must', 8), ('ecosystem', 8), ('open', 8), ('cover', 8), ('variety', 8), ('health', 8), ('deployment', 8), ('iiot', 8), ('manufacture', 8), ('present', 8), ('integration', 8), ('critical', 8), ('could', 8), ('impact', 8), ('level', 8), ('demonstrate', 8), ('electronics', 8), ('product', 8), ('go', 8), ('vision', 7), ('compute', 7), ('share', 7), ('combine', 7), ('integrate', 7), ('modern', 7), ('whether', 7), ('reach', 7), ('across', 7), ('topic', 7), ('may', 7), ('way', 7), ('functional', 7), ('increase', 7), ('feature', 7), ('better', 7), ('root', 7), ('various', 7), ('standard', 7), ('benefit', 7), ('signal', 7), ('innovation', 7), ('building', 7), ('long', 7), ('remote', 7), ('fast', 7), ('result', 7), ('highlight', 7), ('bluetooth', 7), ('model', 7), ('right', 7), ('field', 7), ('lpwan', 7), ('speed', 6), ('robot', 6), ('continue', 6), ('discus', 6), ('human', 6), ('great', 6), ('flexibility', 6), ('explore', 6), ('mission', 6), ('state', 6), ('multiple', 6), ('trend', 6), ('mem', 6), ('component', 6), ('position', 6), ('gain', 6), ('give', 6), ('possible', 6), ('functionality', 6), ('question', 6), ('operation', 6), ('community', 6), ('traditional', 6), ('engineering', 6), ('organization', 6), ('important', 6), ('achieve', 6), ('several', 6), ('fabric', 6), ('commercial', 6), ('issue', 6), ('finally', 6), ('advanced', 6), ('operate', 6), ('user', 6), ('drive', 6), ('mobile', 6), ('bring', 6), ('rtos', 6), ('manage', 6), ('maintenance', 6), ('best', 6), ('describe', 6), ('developer', 6), ('quality', 6), ('global', 6), ('intel', 6)]\n"
     ]
    }
   ],
   "source": [
    "import nltk\n",
    "from nltk import FreqDist\n",
    "\n",
    "totLemmas = []\n",
    "for key in list(sessAbstractsLemmaDict.keys()):\n",
    "    totLemmas = totLemmas + sessAbstractsLemmaDict[key]['sessLemmas']\n",
    "fDistLemmas = FreqDist(totLemmas)\n",
    "topLemmas = fDistLemmas.most_common(245)\n",
    "print('List of Top Lemmas - those occurring 6 times or more:')\n",
    "print('')\n",
    "print(topLemmas)"
   ]
  },
  {
   "cell_type": "markdown",
   "metadata": {},
   "source": [
    "<a class=\"anchor\" id=\"refining lemmas\"></a>\n",
    "<h3>Refining and storing the List of Lemmas</h3>\n",
    "* [Return to TOC](#toc)\n",
    "\n",
    "In looking at this list of 245 lemmas, there are still a number of terms that:\n",
    "\n",
    "<ul>\n",
    "    <li>are similar to stop words that have little to do with the world of sensors (e.g. use, many, best, etc.)</li>\n",
    "    <li>refer primarily to the operation of the conference or the structure of the presentations not the topical or thematic content of the conference (e.g. session, discuss, presentation, attendee, overview, etc.)</li> \n",
    "</ul>\n",
    "\n",
    "Additionally, the word 'sensor' appears in over half the abstracts. Because of this, it's not likely to play a major role in distinguishing one abstract from the next. For these reasons, the lemmas in the above categories, as well as the lemma 'sensor' have been (manually) eliminated from the list of 'top' lemmas. The final result, shown below, contains 193 lemmas. This is the list that will be used in constructing the document-term matrix."
   ]
  },
  {
   "cell_type": "code",
   "execution_count": 7,
   "metadata": {},
   "outputs": [
    {
     "name": "stdout",
     "output_type": "stream",
     "text": [
      "132 abstracts X 193 lemmas = 25476 cells\n"
     ]
    }
   ],
   "source": [
    "topLemmas = ['iot','application','technology','system','data','solution','device','power','learn','network','industrial','industry','market','make','smart','development','develop','environment','challenge','security','process','connectivity','control','design','connect','business','battery','technique','potential','create','platform','embed','source','energy','automotive','gas','work','world','address','life','case','small','amazon','freertos','software','time','cloud','future','internet','requirement','research','analytics','machine','high','build','require','thing','low','communication','wireless','wearable','vehicle','wide','key','look','today','service','cost','company','base','ai','capability','understand','innovative','recent','current','performance','food','code','generate','autonomous','advance','approach','edge','support','type','consumer','safety','optical','measurement','monitor','area','growth','range','analysis','solar','end','change','intelligent','year','lidar','start','city','reduce','decision','block','different','trust','exist','camera','review','monitoring','focus','size','flexible','run','air','light','board','pressure','tool','information','opportunity','ecosystem','open','variety','health','deployment','iiot','manufacture','integration','critical','impact','level','electronics','product','vision','compute','share','combine','integrate','modern','reach','functional','increase','feature','root','standard','signal','innovation','building','remote','fast','highlight','bluetooth','model','field','lpwan','speed','robot','human','flexibility','explore','mission','state','multiple','trend','mem','component','position','gain','functionality','operation','community','traditional','engineering','organization','important','achieve','fabric','commercial','issue','advanced','operate','user','drive','mobile','rtos','maintenance','developer','quality','global','intel']\n",
    "print(len(sessAbstractsLemmaDict),'abstracts X', len(topLemmas), 'lemmas =',len(sessAbstractsLemmaDict)*len(topLemmas),'cells' )"
   ]
  },
  {
   "cell_type": "markdown",
   "metadata": {},
   "source": [
    "Based on this adjustment, the document-term matrix (yet to be constructed) will contain 132 rows (one for each abstract), 193 columns (one for each of the most frequent lemmas), and 25476  cells. Initially, each cell of the matrix will contain a frequency equal to the number of times that the associated lemma appears in the designated abstract.\n",
    "\n",
    "As a next step in the process, we'll create and store the lemma counts with each session in the sessAbstractsDict. They will be stored in an 'ordered dictionary' which is a type of Python <i>collection</i> that return keys in the order in which they were created. Here, the order we want to preserve is the rank ordering of the lemma frequencies from the most to the least frequent.  This is primarily for display purposes because the NMF topic modeler will eventually rearrange them in alphabetical order."
   ]
  },
  {
   "cell_type": "code",
   "execution_count": 8,
   "metadata": {},
   "outputs": [
    {
     "name": "stdout",
     "output_type": "stream",
     "text": [
      "Top lemma counts for sample session S00T00\n",
      "There are 193 lemmas for every session.\n",
      "\n",
      "OrderedDict([('iot', 1), ('application', 0), ('technology', 0), ('system', 0), ('data', 2), ('solution', 3), ('device', 0), ('power', 0), ('learn', 1), ('network', 0), ('industrial', 0), ('industry', 0), ('market', 0), ('make', 0), ('smart', 0), ('development', 0), ('develop', 1), ('environment', 0), ('challenge', 0), ('security', 0), ('process', 0), ('connectivity', 0), ('control', 0), ('design', 0), ('connect', 0), ('business', 0), ('battery', 0), ('technique', 0), ('potential', 0), ('create', 0), ('platform', 0), ('embed', 0), ('source', 0), ('energy', 0), ('automotive', 0), ('gas', 0), ('work', 1), ('world', 0), ('address', 0), ('life', 0), ('case', 0), ('small', 0), ('amazon', 0), ('freertos', 0), ('software', 0), ('time', 1), ('cloud', 1), ('future', 0), ('internet', 0), ('requirement', 0), ('research', 0), ('analytics', 0), ('machine', 0), ('high', 0), ('build', 0), ('require', 0), ('thing', 0), ('low', 0), ('communication', 2), ('wireless', 1), ('wearable', 1), ('vehicle', 0), ('wide', 0), ('key', 0), ('look', 0), ('today', 0), ('service', 0), ('cost', 0), ('company', 0), ('base', 1), ('ai', 0), ('capability', 0), ('understand', 0), ('innovative', 0), ('recent', 0), ('current', 0), ('performance', 0), ('food', 0), ('code', 1), ('generate', 1), ('autonomous', 0), ('advance', 0), ('approach', 0), ('edge', 0), ('support', 0), ('type', 0), ('consumer', 0), ('safety', 0), ('optical', 0), ('measurement', 0), ('monitor', 0), ('area', 0), ('growth', 0), ('range', 0), ('analysis', 0), ('solar', 0), ('end', 0), ('change', 0), ('intelligent', 0), ('year', 0), ('lidar', 0), ('start', 0), ('city', 0), ('reduce', 0), ('decision', 0), ('block', 0), ('different', 0), ('trust', 0), ('exist', 0), ('camera', 0), ('review', 0), ('monitoring', 0), ('focus', 0), ('size', 0), ('flexible', 0), ('run', 0), ('air', 0), ('light', 0), ('board', 1), ('pressure', 1), ('tool', 3), ('information', 0), ('opportunity', 0), ('ecosystem', 0), ('open', 0), ('variety', 0), ('health', 0), ('deployment', 0), ('iiot', 0), ('manufacture', 0), ('integration', 0), ('critical', 0), ('impact', 0), ('level', 0), ('electronics', 0), ('product', 0), ('vision', 0), ('compute', 0), ('share', 0), ('combine', 0), ('integrate', 0), ('modern', 0), ('reach', 0), ('functional', 0), ('increase', 0), ('feature', 0), ('root', 0), ('standard', 0), ('signal', 0), ('innovation', 0), ('building', 0), ('remote', 0), ('fast', 0), ('highlight', 0), ('bluetooth', 0), ('model', 0), ('field', 0), ('lpwan', 0), ('speed', 1), ('robot', 0), ('human', 0), ('flexibility', 0), ('explore', 0), ('mission', 0), ('state', 0), ('multiple', 0), ('trend', 0), ('mem', 0), ('component', 0), ('position', 0), ('gain', 0), ('functionality', 0), ('operation', 0), ('community', 0), ('traditional', 0), ('engineering', 0), ('organization', 0), ('important', 0), ('achieve', 0), ('fabric', 0), ('commercial', 0), ('issue', 0), ('advanced', 0), ('operate', 0), ('user', 0), ('drive', 0), ('mobile', 0), ('rtos', 0), ('maintenance', 0), ('developer', 0), ('quality', 0), ('global', 0), ('intel', 0)])\n"
     ]
    }
   ],
   "source": [
    "from collections import OrderedDict\n",
    "import copy\n",
    "\n",
    "# now create a 'dummy' ordered dictionary with the top lemmas as keys and the counts set at 0\n",
    "# 0 is used as the default because in a given abstract most of the top lemmas will not appear.\n",
    "# In fact the average number of lemmas per abstract is ~50 including all lemmas (top ranked or not).\n",
    "\n",
    "orderedLemmaDict = OrderedDict((lemma, 0) for lemma in topLemmas)\n",
    "#print(orderedLemmaDict)\n",
    "\n",
    "# we make a copy of the orderVector so we don't overwrite the template dictionary of ordered Lemmas\n",
    "for sessKey in list(sessAbstractsLemmaDict.keys()):\n",
    "    orderedVec = copy.copy(orderedLemmaDict)\n",
    "    orderedTotLemma= 0\n",
    "    for lemma in list(sessAbstractsLemmaDict[sessKey]['sessLemmaBOW'].keys()):\n",
    "        if lemma in topLemmas:\n",
    "            orderedVec[lemma] = sessAbstractsLemmaDict[sessKey]['sessLemmaBOW'][lemma]\n",
    "            orderedTotLemma += orderedVec[lemma]\n",
    "    sessAbstractsLemmaDict[sessKey]['sessLemmaRow'] = orderedVec\n",
    "\n",
    "# sample sessLemma Rowprint\n",
    "sessKey = 'S00T00'\n",
    "lemmasForSessKey = sessAbstractsLemmaDict[sessKey]['sessLemmaRow']\n",
    "print('Top lemma counts for sample session', sessKey)\n",
    "print('There are', len(lemmasForSessKey), 'lemmas for every session.')\n",
    "print('')\n",
    "print(lemmasForSessKey)"
   ]
  },
  {
   "cell_type": "markdown",
   "metadata": {},
   "source": [
    "<a class=\"anchor\" id=\"tfidf\"></a>\n",
    "<h3>Converting Raw Frequencies to TFIDF Weights</h3>\n",
    "* [Return to TOC](#toc)\n",
    "\n",
    "\n",
    "In its current form, there are essentially two problems with using the 'sessLemmaRow's to make comparisons among the session abstracts:\n",
    "\n",
    "<ol>\n",
    "    <li><i>Term Frequency (TF)</i>: Longer documents will have higher average counts than shorter documents. Yet, these documents may be talking about the same basic topics. At a minimum, the frequencies of the terms within a document ought to be normalized (e.g. dividing by the total number of terms in the document), so we're comparing proportions or percentages not raw frequences.</li>\n",
    "    <li><i>Inverse Document Frequency (IDF)</i>: Some words in the corpus may appear quite often and, as a consequence, are less informative than those that occur less frequently. Knowing, for example, that an abstract contains the word 'sensor' doesn't help us distinguish one abstract from another because most abstracts contain the lemma 'sensor' (remember this is a conference about sensors so the word is everywhere). That's why it was eliminated from consideration. The same may be true for other frequent lemmas like 'technology' or 'data', although they occur much less frequently than 'sensor' does.</li>\n",
    "</ol>\n",
    "\n",
    "To handle these two problems, each of the 'raw' frequencies is typically converted to a weighted value known as the <i>term frequency-inverse document frequency (tfidf)</i>. As the name of the weight implies, there are two parts to the conversion. The first part 'term frequency (tf)' handles the first problem, while the second part 'inverse document frequency (idf)' handles the second problem. These values are multiplied to produce the final weight (tfidf):\n",
    "\n",
    "<ul>\n",
    "    <li>tf = freq of term in doc / number of words in doc</li>\n",
    "    <li>idf = total number of docs in corpus / number of docs where the term appears</li>\n",
    "    <li>tf-idf = tf x idf where</li>\n",
    "</ul>\n",
    "\n",
    "For instance, the td-idf's for the lemmas 'data' and 'solution' in session 'S00T00' are .38 and 1.57, respectively. Yet, they both occur 2 times in that session (which has 25 lemmas total). The difference is that the lemma 'data' appears 29 times in the corpus, while the lemma 'solution' occurs 7 times. The former lemma ('data') is not as unique, so its frequency is dampened accordingly."
   ]
  },
  {
   "cell_type": "code",
   "execution_count": 9,
   "metadata": {},
   "outputs": [
    {
     "name": "stdout",
     "output_type": "stream",
     "text": [
      "lemma: data tfidf 0.38 -- fd: 2 wd: 24 nd: 132 ndt: 29\n",
      "lemma: communication tfidf 1.57 -- fd: 2 wd: 24 nd: 132 ndt: 7\n"
     ]
    }
   ],
   "source": [
    "def tfidf(sessKey, lemma, lemDict):\n",
    "    freqInDoc = lemDict[sessKey]['sessLemmaBOW'][lemma]\n",
    "    wordsInDoc = 0\n",
    "    lemmaRow = lemDict[sessKey]['sessLemmaRow']\n",
    "    for lem, freq in lemmaRow.items():\n",
    "        if freq > 0: wordsInDoc += freq\n",
    "    numDocs = len(sessAbstractsLemmaDict)\n",
    "    numDocsWithTerm = 0\n",
    "    for sKey in list(lemDict.keys()):\n",
    "        lemmaRow = lemDict[sKey]['sessLemmaRow']\n",
    "        if lemmaRow[lemma]: numDocsWithTerm += 1\n",
    "    tfidf = round((freqInDoc/wordsInDoc)*(numDocs/numDocsWithTerm),2)\n",
    "    print('lemma:', lemma, 'tfidf', tfidf, '-- fd:', freqInDoc, 'wd:', wordsInDoc, 'nd:', numDocs, 'ndt:', numDocsWithTerm)\n",
    "    return tfidf\n",
    "\n",
    "weightFreq = tfidf('S00T00', 'data', sessAbstractsLemmaDict)\n",
    "weightFreq = tfidf('S00T00', 'communication', sessAbstractsLemmaDict)"
   ]
  },
  {
   "cell_type": "markdown",
   "metadata": {},
   "source": [
    "<a class=\"anchor\" id=\"tfidfVectorizer\"></a>\n",
    "<h4>Sklearn TfidfVectorizer: Feature Extraction</h4>\n",
    "* [Return to TOC](#toc)\n",
    "\n",
    "Obviously, we could develop a simple function to transform the raw frequences for every lemma in every 'sessLemmaRow' in the dictionary, just as we did above. However, the sklearn library provides a <i>tfidf vectorizer</i> that converts a corpus of documents (that can be represented in a variety of ways) into a matrix of tfidf weights. In comparison to the standard definition, this vectorizer uses a slightly different formula for idf, using the log of the original idf ratio:\n",
    "\n",
    "<ul>\n",
    "    <li>tf = freq of term in doc / number of words in doc</li>\n",
    "    <li>idf = log(total number of docs in corpus / (number of docs where the term appears + 1))</li>\n",
    "    <li> tfidf = tf * idf</li>\n",
    "</ul>\n",
    "\n",
    "In order to use the capabilities offered by the tfidf tokenizer, we first have to convert each sessLemmaRow into a list of lemmas and then combine all of them into a single list. This is then fed to the vectorizer which computes the tfidf weights."
   ]
  },
  {
   "cell_type": "code",
   "execution_count": 10,
   "metadata": {},
   "outputs": [
    {
     "name": "stdout",
     "output_type": "stream",
     "text": [
      "List representation of the first 2 rows of sessLemmaRow:\n",
      "\n",
      "['iot', 'data', 'data', 'solution', 'solution', 'solution', 'learn', 'develop', 'work', 'time', 'cloud', 'communication', 'communication', 'wireless', 'wearable', 'base', 'code', 'generate', 'board', 'pressure', 'tool', 'tool', 'tool', 'speed']\n",
      "\n",
      "['application', 'application', 'technology', 'technology', 'system', 'development', 'development', 'embed', 'world', 'future', 'vehicle', 'wide', 'key', 'ai', 'capability', 'understand', 'autonomous', 'advance', 'range', 'analysis', 'information', 'vision', 'vision', 'compute', 'share', 'robot', 'human']\n"
     ]
    }
   ],
   "source": [
    "from sklearn.feature_extraction.text import TfidfVectorizer\n",
    "\n",
    "# convert sessLemmaRows to list representation\n",
    "documents = []\n",
    "for sessKey in list(sessAbstractsLemmaDict.keys()):\n",
    "    newDoc = []\n",
    "    for k, v in sessAbstractsLemmaDict[sessKey]['sessLemmaRow'].items():\n",
    "        if v > 0:\n",
    "            for i in range(0,v):\n",
    "                newDoc = newDoc + [k]\n",
    "    documents.append(newDoc)\n",
    "    \n",
    "print('List representation of the first 2 rows of sessLemmaRow:')\n",
    "print('')\n",
    "print(documents[0])\n",
    "print('')\n",
    "print(documents[1])"
   ]
  },
  {
   "cell_type": "markdown",
   "metadata": {},
   "source": [
    "The sklearn <i>TfidfVectorizer</i> is part of the sklearn feature extraction module. As the official documentation notes, \"Feature extraction is very different from Feature selection: the former consists in transforming arbitrary data, such as text or images, into numerical features usable for machine learning. The latter is a machine learning technique applied on these features.\" Here, we're transforming the list of lemma lists we just created (i.e. 'documents') into a matrix of numerical tfidf weights. "
   ]
  },
  {
   "cell_type": "code",
   "execution_count": 11,
   "metadata": {},
   "outputs": [
    {
     "name": "stdout",
     "output_type": "stream",
     "text": [
      "Structure of sparseV matrix of TDIDF weights\n"
     ]
    },
    {
     "data": {
      "text/plain": [
       "<132x193 sparse matrix of type '<class 'numpy.float64'>'\n",
       "\twith 1813 stored elements in Compressed Sparse Row format>"
      ]
     },
     "execution_count": 11,
     "metadata": {},
     "output_type": "execute_result"
    },
    {
     "name": "stdout",
     "output_type": "stream",
     "text": [
      "\n",
      "TFIDF Weights for 1st 3 docs (rows) and 1st 20 lemmas (columns) in vMat.\n"
     ]
    },
    {
     "data": {
      "text/plain": [
       "array([[0.        , 0.        , 0.        , 0.        , 0.        ,\n",
       "        0.        , 0.        , 0.        , 0.        , 0.        ,\n",
       "        0.        , 0.        , 0.        , 0.        , 0.1650332 ,\n",
       "        0.        , 0.        , 0.        , 0.20229114, 0.        ],\n",
       "       [0.        , 0.        , 0.18453082, 0.        , 0.18994986,\n",
       "        0.        , 0.        , 0.19600784, 0.        , 0.19946947,\n",
       "        0.        , 0.        , 0.        , 0.18994986, 0.        ,\n",
       "        0.        , 0.        , 0.        , 0.        , 0.        ],\n",
       "       [0.        , 0.        , 0.        , 0.        , 0.        ,\n",
       "        0.        , 0.        , 0.        , 0.        , 0.        ,\n",
       "        0.        , 0.        , 0.        , 0.        , 0.        ,\n",
       "        0.        , 0.        , 0.        , 0.        , 0.        ]])"
      ]
     },
     "execution_count": 11,
     "metadata": {},
     "output_type": "execute_result"
    },
    {
     "name": "stdout",
     "output_type": "stream",
     "text": [
      "Lemmas for 1st 20 elements in \"vocab\" array:\n",
      "\n",
      "['achieve' 'address' 'advance' 'advanced' 'ai' 'air' 'amazon' 'analysis'\n",
      " 'analytics' 'application' 'approach' 'area' 'automotive' 'autonomous'\n",
      " 'base' 'battery' 'block' 'bluetooth' 'board' 'build']\n"
     ]
    }
   ],
   "source": [
    "from sklearn.feature_extraction.text import TfidfVectorizer\n",
    "import numpy as np\n",
    "import pandas as pd\n",
    "\n",
    "tfidf = TfidfVectorizer(tokenizer=lambda i:i, lowercase=False)\n",
    "sparseV = tfidf.fit_transform(documents)\n",
    "\n",
    "print('Structure of sparseV matrix of TDIDF weights')\n",
    "sparseV\n",
    "print('')\n",
    "\n",
    "vMat = sparseV.toarray()\n",
    "print('TFIDF Weights for 1st 3 docs (rows) and 1st 20 lemmas (columns) in vMat.')\n",
    "vMat[0:3,0:20]\n",
    "\n",
    "vocab = np.array(tfidf.get_feature_names())\n",
    "print ('Lemmas for 1st 20 elements in \"vocab\" array:')\n",
    "print('')\n",
    "print(vocab[0:20])\n",
    "\n"
   ]
  },
  {
   "cell_type": "markdown",
   "metadata": {},
   "source": [
    "As shown above, the numerical result of this feature 'extraction' or transformation is stored as a sparse NxM matrix of weights where 'N' is the number of documents (132) and 'M' is the number of terms (193). In this case the sparse matrix only contains 2000 elements. That's 8% of the total 25476 possible elements. The reason for doing this is obvious. As the above listing exemplifies, the vast majority of the frequencies (and thus the tfidfs) are 0.0. The sparsity is even larger for corpuses that have larger numbers of documents and terms.\n",
    "\n",
    "Technically speaking, the sparse matrix is an numpy float64 array. If you wish to display or use the non-sparse version, this is easily accomplished with the 'toArray' method (see the statement: vMat = sparseV.toArray()). Regardless of their form (sparse or non-sparse), all numpy arrays are devoid of text labels. In this analysis, it's easy to fetch the row labels since the rows represent the underlying session abstracts and are tied to the order of the session abstract keys. So, for example, row 0 is the first session 'S00T00', row 1 is 'S01T00', and so on. It's also fairly simple to derive the labels for the array columns which represent the lemmas. However, in this instance the order of the lemmas bears no direct relation to the original rank order of the lemmas used in the input.  Instead, the TfidfVectorizer places the terms in a python dictionary called 'tfidf.vocabulary_' whose keys are the lemmas in alphabetic order. There are two ways to retrieve this vocabulary. The simplest way is to use the <i>tfidf.get_feature_names()</i> method which is what is done above.\n",
    "\n",
    "<a class=\"anchor\" id=\"clustering and visualization\"></a>\n",
    "<h3>Clustering and Visualization: Similarities and Differences among Documents</h3>\n",
    "* [Return to TOC](#toc)\n",
    "\n",
    "A simple way to get a sense of the similarities and differences in content among the different session abstracts is to perform clustering analysis using the tfidf document-term matrix as input. Many of these clustering algorithms (e.g. hierarchical and non-hierarchical) rely on some form of \"distance\" measure between the pairs of documents in the tfidf matrix. In this case the tfidf weights for a single document represent values in an n-dimensional space. The distance between any given document and another indicates how similar or dissimilar the documents are. Those documents or vectors that are close to one another share the same words with the same weighted frequencies. The distances among all the pairs of documents in the document-term matrix provide a base for grouping documents into clusters.\n",
    "\n",
    "<a class=\"anchor\" id=\"distance\"></a>\n",
    "<h4>Measuring Distance: Focus on Cosine Similarity</h4>\n",
    "* [Return to TOC](#toc)\n",
    "\n",
    "A wide variety of distance measures are used for this purpose. Some examples include:\n",
    "\n",
    "<ul>\n",
    "    <li><i>Euclidean Distance</i> - This is the straight line distance between two points (p,q) in Euclidean n-space. Mathematically, it's the square root of the sum of the squared differences between corresponding elements for each point. While the lower limit of a Euclidean distance between two vectors is 0 (when the pairwise elements are equal), it's difficult to judge the relative distances of other unequal pairs because there is no pre-defined upper limit to the distance.</li><br>\n",
    "    <li><i>Cosine Similarity</i> - Cosine of the angle between two vectors in n-dimensional space. Mathematically, it's the dot product of the two vectors divided by the product of the square root of the sum of squared elements for each vector. When all the elements in a matrix are positive (as they are in a tfidf matrix), then cosine similarity ranges from 0 to 1. At 0 the cosine between the two vectors is 90 degrees, meaning they are perpendicular to one another and loosely speaking completely 'dissimilar'. At 1, the cosine is 0 degrees, meaning the two vectors are equal and loosely speaking completely 'similar'.</li><br>\n",
    "    <li><i>Pearson Correlation Coefficient</i> - Also known as (Pearson's) r, is a measure of the strength and direction of the linear relationship between two variables. Mathematically, it's the covariance of the variables divided by the product of their standard deviations. The value of r ranges from -1 to 0 to +1 where a value of 0 means the vectors are uncorrelated and a value of 1 means they are completely correlated. Because this is a measure for linear relationships, the direction of the correlation indicates whether the relationship is negative (high values with low values and vice-versa) or positive (lows with lows and highs with highs). An issue with r is that there are situations where it can be 'undefined' because one or both of the standard deviations in the denominator of the equation is 0.</i></li><br>\n",
    "    <li><i>Manhattan Distance</i> - Name taken from \"taxicab\" distance between two points in Manhattan (NY). Mathematically, it's the sum of the absolute value of the distance between corresponding elements in each vector. Again, the lower limit of the measure is 0 (meaning the vectors are equal), while there is no pre-define upper limit.</i></li>\n",
    "</ul>\n",
    "\n",
    "In the following discussion we'll focus on cosine similarity, largely because it's easy to interpret and easily calculated (i.e. the sklearn library provides a method with the same name, although 2 of the others are also supported by the same libraries and modules).  The calculation of the cosine similarity for each pair of documents in our document-term matrix vMat is provided below:"
   ]
  },
  {
   "cell_type": "code",
   "execution_count": 12,
   "metadata": {},
   "outputs": [
    {
     "name": "stdout",
     "output_type": "stream",
     "text": [
      "First 10 Rows and Columns of Cosine Similarity for vMat:\n",
      "[[1.   0.   0.02 0.12 0.02 0.17 0.1  0.09 0.04 0.1 ]\n",
      " [0.   1.   0.   0.07 0.05 0.09 0.18 0.07 0.13 0.14]\n",
      " [0.02 0.   1.   0.03 0.   0.04 0.06 0.   0.   0.04]\n",
      " [0.12 0.07 0.03 1.   0.02 0.22 0.04 0.11 0.02 0.14]\n",
      " [0.02 0.05 0.   0.02 1.   0.02 0.05 0.1  0.   0.17]\n",
      " [0.17 0.09 0.04 0.22 0.02 1.   0.24 0.   0.15 0.23]\n",
      " [0.1  0.18 0.06 0.04 0.05 0.24 1.   0.04 0.18 0.13]\n",
      " [0.09 0.07 0.   0.11 0.1  0.   0.04 1.   0.06 0.14]\n",
      " [0.04 0.13 0.   0.02 0.   0.15 0.18 0.06 1.   0.  ]\n",
      " [0.1  0.14 0.04 0.14 0.17 0.23 0.13 0.14 0.   1.  ]]\n"
     ]
    }
   ],
   "source": [
    "from sklearn.metrics.pairwise import cosine_similarity\n",
    "\n",
    "print('First 10 Rows and Columns of Cosine Similarity for vMat:')\n",
    "cosSimMat = cosine_similarity(vMat)\n",
    "print(np.round(cosSimMat[0:10,0:10],2))"
   ]
  },
  {
   "cell_type": "markdown",
   "metadata": {},
   "source": [
    "The above display contains part of the similarity matrix created from pairwise comparisons of the 132 tfidf document vectors in vMat. Looking at this small sample of the comparisons for the first 10 documents, it's obvious that most of the similarities among these pairs are low (at or below ~.20). The only similarities substantially above ~.20 are those created by comparing the documents with themselves (the diagonals of 1.0)"
   ]
  },
  {
   "cell_type": "markdown",
   "metadata": {},
   "source": [
    "<a class=\"anchor\" id=\"heatmap\"></a>\n",
    "<h4>Heat Maps: Color coded view of Similarities</h4>\n",
    "* [Return to TOC](#toc)"
   ]
  },
  {
   "cell_type": "code",
   "execution_count": 13,
   "metadata": {},
   "outputs": [
    {
     "name": "stdout",
     "output_type": "stream",
     "text": [
      "Heatmap of Cosine Similarities among Lemmas in first 10 Session Abstracts\n"
     ]
    },
    {
     "data": {
      "text/plain": [
       "(<Figure size 576x432 with 1 Axes>,\n",
       " <matplotlib.axes._subplots.AxesSubplot at 0x1d95085f828>)"
      ]
     },
     "execution_count": 13,
     "metadata": {},
     "output_type": "execute_result"
    },
    {
     "data": {
      "text/plain": [
       "<matplotlib.axes._subplots.AxesSubplot at 0x1d95085f828>"
      ]
     },
     "execution_count": 13,
     "metadata": {},
     "output_type": "execute_result"
    },
    {
     "data": {
      "image/png": "[encoded data removed]",
      "text/plain": [
       "<Figure size 576x432 with 2 Axes>"
      ]
     },
     "metadata": {},
     "output_type": "display_data"
    }
   ],
   "source": [
    "import matplotlib.pyplot as plt\n",
    "import seaborn as sns\n",
    "%matplotlib inline\n",
    "np.set_printoptions(precision=5, suppress=True)\n",
    "\n",
    "print('Heatmap of Cosine Similarities among Lemmas in first 10 Session Abstracts')\n",
    "plt.subplots(figsize=(8,6))\n",
    "cmap = sns.color_palette(\"Reds\")\n",
    "sns.heatmap(cosSimMat[0:10,0:10],cmap=cmap)"
   ]
  },
  {
   "cell_type": "markdown",
   "metadata": {},
   "source": [
    "As the Heatmap for the similarities among all 132 documents shows, the above pattern is not an abberation. Again, the vast majority of similarities appear to be below .2.  "
   ]
  },
  {
   "cell_type": "code",
   "execution_count": 14,
   "metadata": {},
   "outputs": [
    {
     "name": "stdout",
     "output_type": "stream",
     "text": [
      "Heatmap of Cosine Similarities among 132 Session Abstracts:\n"
     ]
    },
    {
     "data": {
      "text/plain": [
       "(<Figure size 576x432 with 1 Axes>,\n",
       " <matplotlib.axes._subplots.AxesSubplot at 0x1d9509f3048>)"
      ]
     },
     "execution_count": 14,
     "metadata": {},
     "output_type": "execute_result"
    },
    {
     "data": {
      "text/plain": [
       "<matplotlib.axes._subplots.AxesSubplot at 0x1d9509f3048>"
      ]
     },
     "execution_count": 14,
     "metadata": {},
     "output_type": "execute_result"
    },
    {
     "data": {
      "image/png": "[encoded data removed]",
      "text/plain": [
       "<Figure size 576x432 with 2 Axes>"
      ]
     },
     "metadata": {},
     "output_type": "display_data"
    }
   ],
   "source": [
    "%matplotlib inline\n",
    "np.set_printoptions(precision=5, suppress=True)\n",
    "\n",
    "print('Heatmap of Cosine Similarities among 132 Session Abstracts:')\n",
    "plt.subplots(figsize=(8,6))\n",
    "cmap = sns.color_palette(\"Reds\")\n",
    "sns.heatmap(cosSimMat,cmap=cmap)"
   ]
  },
  {
   "cell_type": "markdown",
   "metadata": {},
   "source": [
    "The actual counts (see below) are: \n",
    "\n",
    "<ul>\n",
    "    <li>8089(~94%) below .2</li>\n",
    "    <li>508(~6%) between .2 and .4</li>\n",
    "    <li>47(less than 1%) above .4</li>\n",
    "</ul>\n",
    "\n",
    "This skewed is not unexpected because, as the last notebook showed, the vast majority of lemmas occur 3 times or less in the corpus. The implication is that most session abstracts are highly populated by unique collections of lemmas. It also raises questions about the viability of searching for clusters among these disparate abstracts."
   ]
  },
  {
   "cell_type": "code",
   "execution_count": 15,
   "metadata": {},
   "outputs": [
    {
     "name": "stdout",
     "output_type": "stream",
     "text": [
      "Distribution of Cosine Similarity Values for all Pairs of Documents:\n",
      "[8089, 508, 46, 0, 1]\n",
      " <.2  <.4 <.6 <.8 1.0\n"
     ]
    }
   ],
   "source": [
    "# frequency distribution of cosine similarities\n",
    "cosSimList = []\n",
    "cosSimBins = [0,0,0,0,0]\n",
    "for i in range(0,132):\n",
    "    for j in range(i + 1, 132):\n",
    "        cosSim = cosSimMat[i,j]\n",
    "        cosSimList = cosSimList + [cosSim]\n",
    "        if cosSim < .2: cosSimBins[0] += 1\n",
    "        elif cosSim >= .2 and cosSim < .4: cosSimBins[1] += 1\n",
    "        elif cosSim >= .4 and cosSim < .6: cosSimBins[2] += 1\n",
    "        elif cosSim >= .6 and cosSim < .8: cosSimBins[3] += 1\n",
    "        elif cosSim >= .8 and cosSim <= 1.0: cosSimBins[4] += 1\n",
    "            \n",
    "print('Distribution of Cosine Similarity Values for all Pairs of Documents:')\n",
    "print(cosSimBins)\n",
    "print(' <.2',' <.4','<.6','<.8','1.0')"
   ]
  },
  {
   "cell_type": "markdown",
   "metadata": {},
   "source": [
    "<a class=\"anchor\" id=\"dendrogram\"></a>\n",
    "<h4>Dendrogram: Display of Hiearchical Clustering</h4>\n",
    "* [Return to TOC](#toc)\n",
    "\n",
    "One way to get a visual image of the possible clusters among a set of vectors is to construct a dendogram. \"A dendrogram is a tree diagram that shows the hierarchical relationship between objects. It is most commonly created as an output from hierarchical clustering.\"\n",
    "\n",
    "The dendrogram shown below is based on hierarchical clustering where 'distance' is measured by cosine similarity and the vectors are not compared directly with one another but with the <i>centroids</i> (i.e. vector average) of the resulting clusters. Without going into excruciating details, the colors in this dendrogram provide a visual hint that there may be viable clusters of session abstracts based on the distances or similarities of their tfidf (lemma) weights. The colors also indicate that a reasonable number of clusters might be 5 (one for each of the 5 colors).\n",
    "\n",
    "For those who are more interested in more details about dendrograms and the underlying clustering methods, there are any number of articles or tutorials on the subject. To get a listing just search 'sklearn hierarchical clustering dendrogram' on google."
   ]
  },
  {
   "cell_type": "code",
   "execution_count": 16,
   "metadata": {
    "scrolled": false
   },
   "outputs": [
    {
     "data": {
      "image/png": "[encoded data removed]",
      "text/plain": [
       "<Figure size 936x720 with 1 Axes>"
      ]
     },
     "metadata": {},
     "output_type": "display_data"
    }
   ],
   "source": [
    "import matplotlib.pyplot as plt\n",
    "import seaborn as sns\n",
    "from sklearn.metrics.pairwise import cosine_similarity\n",
    "from scipy.cluster.hierarchy import ward, dendrogram, linkage\n",
    "\n",
    "linkage_matrix = ward(cosSimMat)\n",
    "fig, ax = plt.subplots(figsize=(13,10))\n",
    "ax = dendrogram(linkage_matrix, orientation='top')\n",
    "plt.tight_layout()\n",
    "plt.show()"
   ]
  },
  {
   "cell_type": "markdown",
   "metadata": {},
   "source": [
    "<a class=\"anchor\" id=\"nmf\"></a>\n",
    "<h3>Topic Modeling: Non-Negative Matrix Factorization (NMF)</h3>\n",
    "* [Return to TOC](#toc)\n",
    "\n",
    "The next step in this analysis is <i>topic modeling</i>. It provides one way of better understanding the constellation of terms/lemmas underlying the clustering of the sessions and lemmas (although the underlying math topic modeling is different than the hierarchical clustering used with the dendrogram).\n",
    "\n",
    "As noted at the beginning, the type of topic modeling we're using is called <i>non-negative matrix factorization</i> (NMF). Simply put, it takes an NxM document-term matrix V of 'tfidf' weights and factors it into 2 non-negative matrices W and H whose product approximates the tfidf weights in V. W is an NxP document-topic matrix of weights where P is the number of topics and the weights in a given row represent the strengths of association between a single document and each topic. Documents with similar weight profiles in W (theoretically) have similar content. On the other hand, H is a PxM topic-term matrix of weights where the weights in a given row represent the strengths of association between a given topic and each term. Taken together the strongest weights in a row form a cluster or subgroup of terms that the topic encompasses. The general hope is that there will be minimal overlap between the subgroup of terms from one topic to the next.\n",
    "\n",
    "Once you have the document-term matrix (which in this case is the session_abstract-lemma matrix labeled 'vMat'), the easy part of topic modeling is actually deriving the matrices W and H.  The hard part is deciphering the results from the two matrices.\n",
    "\n",
    "<a class=\"anchor\" id=\"decomposition\"></a>\n",
    "<h4>Sklearn Decomposition with NMF</h4>\n",
    "* [Return to TOC](#toc)\n",
    "\n",
    "To create the model, we employ the NMF module from the 'decomposition' library within sklearn. In order to calculate the model we not only need vMat, but we also need to designate 'n_Components' which is the number topics that will be used to represent the corpus content. For the remainder of the discussion will set the value at 5 which matches the number of clusters from the 'dendrogram.' For us, we might designate 4, 5 or 6 because these were the number of clusters displayed at key points of the dendrogram. Also, in the computations below, we'll take on faith that the 'init' value is 'nndsvid' and 'max_iter' equals 500."
   ]
  },
  {
   "cell_type": "code",
   "execution_count": 17,
   "metadata": {},
   "outputs": [
    {
     "name": "stdout",
     "output_type": "stream",
     "text": [
      "Shape of W matrix: (132, 5) type: <class 'numpy.ndarray'>\n",
      "Shape of H matrix: (5, 193) type: <class 'numpy.ndarray'>\n"
     ]
    }
   ],
   "source": [
    "from sklearn import decomposition\n",
    "\n",
    "numOfTopics = 5\n",
    "\n",
    "model = decomposition.NMF(init=\"nndsvd\", n_components=numOfTopics, max_iter=500)\n",
    "W = model.fit_transform(vMat)\n",
    "H = model.components_\n",
    "\n",
    "print('Shape of W matrix:', W.shape, 'type:', type(W))\n",
    "print('Shape of H matrix:', H.shape, 'type:', type(H))"
   ]
  },
  {
   "cell_type": "markdown",
   "metadata": {},
   "source": [
    "<a class=\"anchor\" id=\"nmf results\"></a>\n",
    "<h4>Exploring the Results of NMF</h4>\n",
    "* [Return to TOC](#toc)\n",
    "\n",
    "As the modeling results indicate, the W matrix is 132 session abstracts by 5 topics. The 'type' of matrix is an numpy array. The H matrix is a 5 topics by 200 lemmas (in alphabetic order). It's also a numpy array. If you look at each matrix/array, you'll notice that they don't have any descriptive column labels or row labels per se (only indexes)"
   ]
  },
  {
   "cell_type": "code",
   "execution_count": 18,
   "metadata": {},
   "outputs": [
    {
     "name": "stdout",
     "output_type": "stream",
     "text": [
      "First 5 rows of matrix W:\n"
     ]
    },
    {
     "data": {
      "text/plain": [
       "array([[0.   , 0.035, 0.   , 0.048, 0.354],\n",
       "       [0.133, 0.   , 0.   , 0.28 , 0.   ],\n",
       "       [0.032, 0.281, 0.   , 0.   , 0.   ],\n",
       "       [0.   , 0.141, 0.028, 0.044, 0.236],\n",
       "       [0.002, 0.   , 0.121, 0.159, 0.02 ]])"
      ]
     },
     "execution_count": 18,
     "metadata": {},
     "output_type": "execute_result"
    },
    {
     "name": "stdout",
     "output_type": "stream",
     "text": [
      "First 5 columns of matrix H\n"
     ]
    },
    {
     "data": {
      "text/plain": [
       "array([[0.124, 0.189, 0.008, 0.034, 0.   ],\n",
       "       [0.   , 0.   , 0.   , 0.   , 0.   ],\n",
       "       [0.   , 0.106, 0.144, 0.033, 0.   ],\n",
       "       [0.031, 0.007, 0.051, 0.055, 0.194],\n",
       "       [0.   , 0.   , 0.   , 0.   , 0.096]])"
      ]
     },
     "execution_count": 18,
     "metadata": {},
     "output_type": "execute_result"
    }
   ],
   "source": [
    "print('First 5 rows of matrix W:')\n",
    "np.round(W[0:5,:], 3)\n",
    "print('First 5 columns of matrix H')\n",
    "np.round(H[:,0:5],3)"
   ]
  },
  {
   "cell_type": "markdown",
   "metadata": {},
   "source": [
    "As you traverse the rows of W (recall it's 0-based numbering), it's fairly easy to see from the weights that topic 3 is the most important for row 0, topics 4 & 1 (in that order) for row 1, topic 1 for row 2, etc. Of course, the task would be easier if there were labels and the weights were normalized to sum to 1.000 for each row. Additionally, while it's easy to look at a few rows, it's difficult to see similarities across 132 rows.\n",
    "\n",
    "In the same vein, as you traverse the rows of H, you can discern patterns within and across the rows by comparing comparing the relative values of the weights. For example, term 1 is the most important (term among the 5 shown) for term 1, term 2 is most important for topic 2, term 3 for topic 3, and term 3 for topic 4. For topic 1 (the second row), none of these terms is important. Additionally, if we look down the columns, it appears that term 0 doesn't play a role in distinguishing the topics, i.e. all the weights in column 0 are low. This is also the case for term 4 where all the weights in column 4 are also low.  Again, it would certainly be helpful if we knew what the labels were for the terms/lemmas and if we could reduce the number of terms used in describing the topics from 193 down to some manageable number.\n",
    "\n",
    "<a class=\"anchor\" id=\"topics and terms\"></a>\n",
    "<h4>Topics and their Terms - the H Matrix</h4>\n",
    "* [Return to TOC](#toc)\n",
    "\n",
    "In the remainder of the topic modeling discussion we're going to address the gaps noted above. We'll start by looking at the top terms/tokens/lemmas for each of the topics. In the analysis below, I've selected 10. The number is somewhat arbitrary, but it's easily changed."
   ]
  },
  {
   "cell_type": "code",
   "execution_count": 19,
   "metadata": {},
   "outputs": [
    {
     "name": "stdout",
     "output_type": "stream",
     "text": [
      "Topic 0: application, technology, industrial, industry, smart, market, potential, optical, current, gas\n",
      "\n",
      "Topic 1: iot, company, look, network, connectivity, market, ecosystem, device, combine, growth\n",
      "\n",
      "Topic 2: power, battery, energy, device, solar, source, run, wireless, flexible, maintenance\n",
      "\n",
      "Topic 3: system, make, technique, lidar, decision, development, learn, autonomous, ai, intelligent\n",
      "\n",
      "Topic 4: data, communication, analytics, standard, wireless, generate, learn, technology, industrial, edge\n",
      "\n"
     ]
    }
   ],
   "source": [
    "def topTerms(nTerms, terms, H):\n",
    "    TL = {}\n",
    "    termRanking = []\n",
    "    for topicIndex in range(H.shape[0]):\n",
    "        tStr = \"T\" + str(topicIndex)  \n",
    "        topIndices = np.argsort( H[topicIndex,:] )[::-1][0:nTerms]\n",
    "        termRanking = [terms[i] for i in topIndices]\n",
    "        TL[tStr] = termRanking\n",
    "        print (\"Topic %d: %s\" % ( topicIndex, \", \".join( termRanking ) ))\n",
    "        print('')\n",
    "    return TL\n",
    "\n",
    "# somewhat arbitrarily looking for top 10 lemmas for each topic\n",
    "\n",
    "nTerms = 10\n",
    "\n",
    "# the terms or lemmas come from the earlier tfidf analysis\n",
    "\n",
    "num_terms = len(tfidf.vocabulary_)\n",
    "terms = [\"\"] * num_terms\n",
    "\n",
    "for term in tfidf.vocabulary_.keys():\n",
    "    terms[ tfidf.vocabulary_[term] ] = term\n",
    "\n",
    "# results are stored in a dictionary with keys T0, T1, ..., T4 and \n",
    "# values equal to a list of the top 10 lemmas for that topic\n",
    "\n",
    "top10LemmasPerTopic = topTerms(nTerms,terms,H)\n"
   ]
  },
  {
   "cell_type": "markdown",
   "metadata": {},
   "source": [
    "Coming up with descriptive labels or names for topics is a bit of a crap shoot. For these purposes, candidate names might be:\n",
    "\n",
    "<ul>\n",
    "    <li>T0 - industrial applications</li>\n",
    "    <li>T1 - iot connectivity</li>\n",
    "    <li>T2 - power devices</li>\n",
    "    <li>T3 - intelligent systems</li>\n",
    "    <li>T4 - data analytics</li>\n",
    "</ul>\n",
    "\n",
    "Whether these are the correct labels is open to question. What isn't open to question is the miniscule overlap among the topics with respect to their top 10 terms or lemmas. This fact is easily demonstrated by calculating a Jaccard similarity score for each pair of topics. A Jaccard similarity score or index, \"measures similarity between finite sample sets, and is defined as the size of the intersection divided by the size of the union of the sample sets.\" The computations for each pair shown below indicates virtually no overlap among the various pairs. If two sets have no members in common, the intersection is 0 and thus the similarity is 0.0. If two sets completely overlap, then the intersection and the union will be equal and thus the similarity will be 1.0. In this case 'T0' and 'T1' have the most overlap sharing the terms 'industrial' and 'technology.'\n",
    "\n",
    "\\[Note: Green et al. have an article entitled <a href=\"http://derekgreene.com/papers/greene14topics.pdf\">'How Many Topics? Stability Analysis for Topic Models'</a> that discusses the use of Jaccard and Average Jaccard scores measuring ranked set similarities and their use in determining optimal values for the number of topics to use]."
   ]
  },
  {
   "cell_type": "code",
   "execution_count": 20,
   "metadata": {},
   "outputs": [
    {
     "name": "stdout",
     "output_type": "stream",
     "text": [
      "Jaccard Similarity Score between topic i and topic j:\n",
      "\n",
      "T0 T1 0.05\n",
      "T0 T2 0.0\n",
      "T0 T3 0.0\n",
      "T0 T4 0.11\n",
      "T1 T2 0.05\n",
      "T1 T3 0.0\n",
      "T1 T4 0.0\n",
      "T2 T3 0.0\n",
      "T2 T4 0.05\n",
      "T3 T4 0.05\n"
     ]
    }
   ],
   "source": [
    "def compute_jaccard_index(set_1, set_2):\n",
    "    return len(set_1.intersection(set_2)) / float(len(set_1.union(set_2))) \n",
    "\n",
    "topicList = list(top10LemmasPerTopic.keys())\n",
    "print('Jaccard Similarity Score between topic i and topic j:')\n",
    "print('')\n",
    "for i in range(0, numOfTopics):\n",
    "    topicKey = topicList[i]\n",
    "    topSet1 = set(top10LemmasPerTopic[topicKey])\n",
    "    for j in range(i + 1, numOfTopics):\n",
    "        topicKey2 = topicList[j]\n",
    "        topSet2 = set(top10LemmasPerTopic[topicKey2])\n",
    "        jindx = compute_jaccard_index(topSet1, topSet2)\n",
    "        jindx = round(jindx,2)\n",
    "        print (topicKey, topicKey2, jindx)"
   ]
  },
  {
   "cell_type": "markdown",
   "metadata": {},
   "source": [
    "From the above scores, it is obvious that among these five topics there is minimal overlap in the lemmas from one topic to the next. In the cases where there is overlap, the number of shared lemmas is 1 or 2. Of course, this has to be tempered by the fact that were only looking at the top 10 weighted lemmas for each topic out of 193 total lemmas. If we had used 15 or 20 or some other number, the overlap would certainly increase. However, as well see, the top 10 rankings do a reasonable job of clustering the session abstracts. 'How well' is the next consideration.\n",
    "\n",
    "<a class=\"anchor\" id=\"docs and topics\"></a>\n",
    "<h4>Documents and their Topics - the W Matrix</h4>\n",
    "* [Return to TOC](#toc)\n",
    "\n",
    "'How well' is the next consideration. The answer to this question has it's foundation in matrix W. As a precursor to exploring this issue, we first need to normalize the rows in W by dividing each weight in W by it's row sum. This means that each row will sum to 1.0."
   ]
  },
  {
   "cell_type": "code",
   "execution_count": 21,
   "metadata": {},
   "outputs": [
    {
     "name": "stdout",
     "output_type": "stream",
     "text": [
      "Dimensions of matrix W - sessions by topics:\n"
     ]
    },
    {
     "data": {
      "text/plain": [
       "(132, 5)"
      ]
     },
     "execution_count": 21,
     "metadata": {},
     "output_type": "execute_result"
    },
    {
     "name": "stdout",
     "output_type": "stream",
     "text": [
      "First five rows of W with normalized weights. Rows sum to 1.00\n"
     ]
    },
    {
     "data": {
      "text/plain": [
       "array([[0.  , 0.08, 0.  , 0.11, 0.81],\n",
       "       [0.32, 0.  , 0.  , 0.68, 0.  ],\n",
       "       [0.1 , 0.9 , 0.  , 0.  , 0.  ],\n",
       "       [0.  , 0.31, 0.06, 0.1 , 0.53],\n",
       "       [0.01, 0.  , 0.4 , 0.53, 0.07]])"
      ]
     },
     "execution_count": 21,
     "metadata": {},
     "output_type": "execute_result"
    }
   ],
   "source": [
    "# Creating normalized 'docTopic' array based on row sums.\n",
    "\n",
    "docTopic = W / np.sum(W, axis=1, keepdims=True)\n",
    "docTopicOrig = docTopic.copy\n",
    "docTopicRnd = np.round(docTopic, 2)\n",
    "print('Dimensions of matrix W - sessions by topics:')\n",
    "docTopicRnd.shape\n",
    "\n",
    "print('First five rows of W with normalized weights. Rows sum to 1.00')\n",
    "docTopicRnd[0:5,:]"
   ]
  },
  {
   "cell_type": "markdown",
   "metadata": {},
   "source": [
    "<a class=\"anchor\" id=\"bar charts\"></a>\n",
    "<h4>Visualizing Document Topic Weights: Stacked Vertical Bar Charts</h4>\n",
    "* [Return to TOC](#toc)\n",
    "\n",
    "This small sample indicates some of the possible constellation of weights within a given session/row. In the 0th, 1st, and 2nd sessions, the weight of a single topic dominates (i.e. 'T4', 'T3' and 'T1, respectively). In session 3, two topics are needed to summarize the lemmas in that abstract (i.e. 'T4' and 'T1' in that order). Same holds for session 4, two topics have to be combined ('T3' and 'T2' in that order). \n",
    "\n",
    "What you'll find for the vast majority of other session abstracts is that 1 or 2 topics dominate. One way to see this for all the sessions is by displaying the individual weights for each session/row in a stacked vertical bar chart. "
   ]
  },
  {
   "cell_type": "code",
   "execution_count": 22,
   "metadata": {},
   "outputs": [
    {
     "data": {
      "text/plain": [
       "Text(0,0.5,'Proportion')"
      ]
     },
     "execution_count": 22,
     "metadata": {},
     "output_type": "execute_result"
    },
    {
     "data": {
      "image/png": "[encoded data removed]",
      "text/plain": [
       "<Figure size 1440x576 with 1 Axes>"
      ]
     },
     "metadata": {},
     "output_type": "display_data"
    }
   ],
   "source": [
    "# Creating the stacked bar chart using plotting capabilities of pandas\n",
    "\n",
    "import pandas as pd\n",
    "sessKeys = tuple(sessAbstractsLemmaDict.keys())\n",
    "df = pd.DataFrame(docTopic, index = sessKeys, columns = ('T0','T1','T2','T3','T4'))\n",
    "#df = pd.DataFrame(docTopic, columns = ('T0','T1','T2','T3','T4'))\n",
    "ax = df.plot(kind='bar', stacked=True, figsize=(20, 8))\n",
    "ax.set_ylabel('Proportion')\n",
    "#plt.savefig('stacked.png')\n",
    "plt.show()"
   ]
  },
  {
   "cell_type": "markdown",
   "metadata": {},
   "source": [
    "In this bar chart the order on the X-axis is the session order in the conference program, running from 'S00T00' to 'S28T12'. Within a given bar, the colored segments indicate the individual topics (shown in the legend on the right) and the length of those segments indicate the normalized weights. So, for instance, the first bar indicates that for session 'S00T00', the dominant topic is 'T4' with a weight of ~.9. Similarly, the next bar shows that for session 'S01T00' the dominant topic is 'T3' with a weight of ~.7. Skipping a bar and going to the bar for session 'S03T00', we can see that the combined segments and weights for topics 'T4' (red) and 'T1' (orange) are needed to cover a substantial proportion of the total (i.e. ~.85 = .52 + .31). As you move from left to right, with a little diligence you can see that most of the time 1 or 2 segments will cover at least .7 or 70% of the bar. This fact is more easily demonstrated by clustering or ordering bars by the topics that dominate the session.  This is the analysis that follows.\n",
    "\n",
    "First, for each session the topics and their associated weights are ranked."
   ]
  },
  {
   "cell_type": "code",
   "execution_count": 23,
   "metadata": {},
   "outputs": [
    {
     "name": "stdout",
     "output_type": "stream",
     "text": [
      "Example of Topic and Weight Rankings for first 10 sessions:\n",
      "\n",
      "S00T00 [4 3 1 2 0] [-0.80959 -0.10915 -0.08126 -0.      -0.     ]\n",
      "S01T00 [3 0 4 2 1] [-0.67719 -0.32281 -0.      -0.      -0.     ]\n",
      "S02T00 [1 0 4 3 2] [-0.89726 -0.10274 -0.      -0.      -0.     ]\n",
      "S03T00 [4 1 3 2 0] [-0.5256  -0.31403 -0.09709 -0.06328 -0.     ]\n",
      "S04T00 [3 2 4 0 1] [-0.52743 -0.40161 -0.06518 -0.00578 -0.     ]\n",
      "S06T00 [4 1 0 2 3] [-0.79169 -0.14848 -0.0422  -0.01764 -0.     ]\n",
      "S00T01 [4 3 0 1 2] [-0.33821 -0.32173 -0.28692 -0.05314 -0.     ]\n",
      "S00T02 [2 4 3 1 0] [-0.98656 -0.01344 -0.      -0.      -0.     ]\n",
      "S01T02 [3 0 4 1 2] [-0.67215 -0.20882 -0.11688 -0.00215 -0.     ]\n",
      "S02T02 [4 1 2 3 0] [-0.44613 -0.35047 -0.17251 -0.03089 -0.     ]\n"
     ]
    }
   ],
   "source": [
    "# Ranking Topics and associated Weights for each Session Abstract\n",
    "\n",
    "topicNames = ['T0','T1','T2','T3','T4']\n",
    "topicsDict = {}\n",
    "\n",
    "for i in range(len(docTopic)):\n",
    "    key = sessKeys[i]\n",
    "    topicsDict[key] = {}\n",
    "    topicsDict[key]['topicWghts'] = docTopic[i,:]\n",
    "    topicsDict[key]['top5Topics'] = np.argsort(docTopic[i,:])[::-1][0:5]\n",
    "\n",
    "    \n",
    "print('Example of Topic and Weight Rankings for first 10 sessions:')\n",
    "print('')\n",
    "for sessKey in sessKeys[0:10]:\n",
    "    print (sessKey, topicsDict[sessKey]['top5Topics'], np.sort(-topicsDict[sessKey]['topicWghts']))"
   ]
  },
  {
   "cell_type": "markdown",
   "metadata": {},
   "source": [
    "Next, for each session we determine how many are needed for the summed weights to exceed .7 (or 70% of the total)."
   ]
  },
  {
   "cell_type": "code",
   "execution_count": 24,
   "metadata": {
    "scrolled": true
   },
   "outputs": [
    {
     "name": "stdout",
     "output_type": "stream",
     "text": [
      "Sample of number of topics needed for a weighted sum > .7 for each of the first 10 sessions:\n",
      "\n",
      "S00T00 1\n",
      "S01T00 2\n",
      "S02T00 1\n",
      "S03T00 2\n",
      "S04T00 2\n",
      "S06T00 1\n",
      "S00T01 3\n",
      "S00T02 1\n",
      "S01T02 2\n",
      "S02T02 2\n",
      "\n",
      "Number of Sessions covered (weight sum > .7) by 1-4 topic weights:\n",
      "[52, 68, 12, 0]\n"
     ]
    }
   ],
   "source": [
    "# for each document how many topics are needed to attain a weight sum > .7    \n",
    "keyCntPrnt = {}\n",
    "wghtLimit = .7\n",
    "for i in range(0,len(sessKeys)):\n",
    "    key = sessKeys[i]\n",
    "    top5 = topicsDict[key]['top5Topics']\n",
    "    topWs = topicsDict[key]['topicWghts']\n",
    "    sumWght = 0.0\n",
    "    tCnt = 0\n",
    "    while sumWght < wghtLimit:\n",
    "        tPtr = top5[tCnt]\n",
    "        tWght = topWs[tPtr]\n",
    "        sumWght = sumWght + tWght\n",
    "        tCnt += 1\n",
    "    keyCntPrnt[key] = tCnt\n",
    "    \n",
    "print('Sample of number of topics needed for a weighted sum > .7 for each of the first 10 sessions:')\n",
    "print('')\n",
    "for key, val in list(keyCntPrnt.items())[0:10]: print(key, val)\n",
    "\n",
    "keyCnts = [0,0,0,0,0]\n",
    "for key, val in list(keyCntPrnt.items())[0:]: keyCnts[val] += 1\n",
    "\n",
    "print('')\n",
    "print('Number of Sessions covered (weight sum > .7) by 1-4 topic weights:')\n",
    "print(keyCnts[1:])"
   ]
  },
  {
   "cell_type": "markdown",
   "metadata": {},
   "source": [
    "The sample listing indicates that for the 9 of the first 10 topics either 1 or 2 topic weights are needed to exceed the .7 threshold. If you consider all sessions, the totals indicate that 53 sessions need 1 topic weight and 67 need 2 topic weights. That's the vast majority of the sessions.\n",
    "\n",
    "Which topic weights are needed for each session is determined by the code below. The end result of this code is a list of the sessions ordered by the single topic or pair of topics whose sum of weights > .7."
   ]
  },
  {
   "cell_type": "code",
   "execution_count": 25,
   "metadata": {},
   "outputs": [
    {
     "name": "stdout",
     "output_type": "stream",
     "text": [
      "Sessions by Topics whose combined weights > .7:\n",
      "\n",
      "T0 ['S04T03', 'S02T04', 'S06T04', 'S09T04', 'S05T07', 'S11T07', 'S01T08', 'S27T09', 'S28T09', 'S01T11', 'S03T11']\n",
      "\n",
      "T0-T1 ['S03T05', 'S00T12', 'S14T12', 'S26T12']\n",
      "\n",
      "T0-T2 ['S00T04', 'S07T04', 'S02T08', 'S17T09', 'S34T09', 'S03T10', 'S01T12', 'S24T12']\n",
      "\n",
      "T0-T3 ['S03T02', 'S12T07', 'S00T08', 'S04T09', 'S22T09', 'S39T09', 'S05T12', 'S08T12']\n",
      "\n",
      "T0-T4 ['S38T09']\n",
      "\n",
      "T1 ['S02T00', 'S09T07', 'S05T09', 'S21T09', 'S24T09', 'S30T09', 'S35T09', 'S01T10', 'S03T12', 'S13T12']\n",
      "\n",
      "T1-T0 ['S00T03', 'S03T04', 'S02T05', 'S00T07', 'S13T07', 'S09T09', 'S18T09', 'S37T09', 'S18T12']\n",
      "\n",
      "T1-T2 ['S04T05', 'S08T07', 'S15T09']\n",
      "\n",
      "T1-T3 ['S05T03', 'S12T09', 'S13T09', 'S14T09', 'S20T09', 'S10T12']\n",
      "\n",
      "T1-T4 ['S17T12']\n",
      "\n",
      "T2 ['S00T02', 'S00T06', 'S06T07', 'S10T09', 'S23T09', 'S00T11', 'S04T12']\n",
      "\n",
      "T2-T0 ['S01T07', 'S07T07']\n",
      "\n",
      "T2-T1 ['S01T05', 'S20T12']\n",
      "\n",
      "T2-T3 ['S02T07', 'S31T09', 'S15T12']\n",
      "\n",
      "T2-T4 []\n",
      "\n",
      "T3 ['S03T03', 'S01T04', 'S08T04', 'S00T05', 'S10T07', 'S01T09', 'S03T09', 'S08T09', 'S19T09', 'S25T09', 'S26T09', 'S32T09', 'S02T11', 'S25T12', 'S27T12']\n",
      "\n",
      "T3-T0 ['S01T00', 'S01T02', 'S04T02', 'S07T09', 'S29T09', 'S19T12']\n",
      "\n",
      "T3-T1 ['S02T03', 'S06T12', 'S12T12', 'S21T12']\n",
      "\n",
      "T3-T2 ['S04T00', 'S05T02', 'S02T09', 'S06T09']\n",
      "\n",
      "T3-T4 ['S04T04', 'S03T08', 'S00T09', 'S11T09', 'S36T09', 'S02T10']\n",
      "\n",
      "T4 ['S00T00', 'S06T00', 'S01T03', 'S03T07', 'S04T07', 'S16T09', 'S07T12', 'S09T12', 'S11T12']\n",
      "\n",
      "T4-T0 ['S00T10', 'S23T12']\n",
      "\n",
      "T4-T1 ['S03T00', 'S02T02', 'S14T07', 'S33T09']\n",
      "\n",
      "T4-T2 ['S16T12', 'S22T12']\n",
      "\n",
      "T4-T3 ['S00T01', 'S05T04', 'S04T08', 'S02T12', 'S28T12']\n",
      "\n"
     ]
    }
   ],
   "source": [
    "#topicsDict\n",
    "clusterKeys = {}\n",
    "\n",
    "for i in range(0,5):\n",
    "    topic = \"T\" + str(i)\n",
    "    clusterKeys[topic] = []\n",
    "    for j in range(0,5):\n",
    "        if i != j:\n",
    "            topic = \"T\" + str(i) + '-T' + str(j)\n",
    "            clusterKeys[topic] = []\n",
    "            \n",
    "for key in sessKeys:\n",
    "    if keyCntPrnt[key] == 1:\n",
    "        topicInt = str(topicsDict[key]['top5Topics'][0])\n",
    "        topic = 'T' + str(topicInt)\n",
    "        #print(key, topic)\n",
    "        clusterKeys[topic] = clusterKeys[topic] + [key]\n",
    "    else:\n",
    "        topicInt = str(topicsDict[key]['top5Topics'][0])\n",
    "        topic = 'T' + str(topicInt)\n",
    "        topicInt = str(topicsDict[key]['top5Topics'][1])\n",
    "        topic = topic + '-T' + str(topicInt)\n",
    "        #print(key, topic)\n",
    "        clusterKeys[topic] = clusterKeys[topic] + [key]\n",
    "\n",
    "print('Sessions by Topics whose combined weights > .7:')\n",
    "print('')\n",
    "for key, val in clusterKeys.items():\n",
    "    key1 = key\n",
    "    print(key,val)\n",
    "    print('')"
   ]
  },
  {
   "cell_type": "markdown",
   "metadata": {},
   "source": [
    "The interpretation of these groupings is pretty straightforward. For instance, the first list, designated 'T0,' contains those sessions where the topic weight for topic 'T0' exceeds .7. The second line, labeled 'T0-T1' lists those sessions where the combined topic weights for topics 'T0' and 'T1' exceed .7. In this latter case, the fact that topic 'T0' is first indicates that its weight is larger. In contrast, the list for topics 'T1-T0' contains those sessions where the combined weight of the two topics > .7 but topic 'T1' has a larger weight than topic 'T0'.\n",
    "\n",
    "Taken as a group, what these listings provide are clusters of sessions whose abstracts share common lemmas or contents. To get a visual image of these clusters, we can again rely on a stacked bar chart. Here, not only does each bar indicate the relative value of the topics for each session, but by displaying each cluster of sessions together we get a visual sense of the commonality of weights (and thus content) within each cluster and the differences in weights across the clusters.\n",
    "\n",
    "The process of constructing the stacked bar chart is the same as before. The only thing that changes is the ordering of the sessions according to the above lists, i.e. the sessions appear in the order in which they are listed from the top list to the botton. "
   ]
  },
  {
   "cell_type": "code",
   "execution_count": 26,
   "metadata": {},
   "outputs": [],
   "source": [
    "# Re-ordering the data in the docTopicsNMF matrix so that the rows correspond to the topic listings\n",
    "\n",
    "indexList = []\n",
    "for topic, values in clusterKeys.items():\n",
    "    for value in values:\n",
    "        indexList = indexList + [value]\n",
    "\n",
    "sessKeysDict = {}\n",
    "sessCnt = 0\n",
    "for sessKey in sessKeys:\n",
    "    sessKeysDict[sessKey] = sessCnt\n",
    "    sessCnt += 1\n",
    "\n",
    "docTopicsNMF = np.zeros((132,5))\n",
    "sCnt = 0\n",
    "for sKey in indexList:\n",
    "    iLoc = sessKeysDict[sKey]\n",
    "    docTopicsNMF[sCnt,:] = docTopic[iLoc,:]\n",
    "    sCnt += 1"
   ]
  },
  {
   "cell_type": "code",
   "execution_count": 27,
   "metadata": {},
   "outputs": [
    {
     "data": {
      "text/plain": [
       "Text(0,0.5,'Proportion')"
      ]
     },
     "execution_count": 27,
     "metadata": {},
     "output_type": "execute_result"
    },
    {
     "data": {
      "image/png": "[encoded data removed]",
      "text/plain": [
       "<Figure size 1440x576 with 1 Axes>"
      ]
     },
     "metadata": {},
     "output_type": "display_data"
    }
   ],
   "source": [
    "# Creating the stacked bar chart using plotting capabilities of pandas\n",
    "\n",
    "indxTup = tuple(indexList)\n",
    "df = pd.DataFrame(docTopicsNMF, index = indxTup, columns = ('T0','T1','T2','T3','T4'))\n",
    "ax = df.plot(kind='bar', stacked=True, figsize=(20, 8))\n",
    "ax.set_ylabel('Proportion')\n",
    "#plt.savefig('stacked.png')\n",
    "plt.show()"
   ]
  },
  {
   "cell_type": "markdown",
   "metadata": {},
   "source": [
    "<a class=\"anchor\" id=\"summary results\"></a>\n",
    "<h4>Summary Results of Topic Analysis: Top 10 Lemmas and Session Titles by Topics</h4>\n",
    "* [Return to TOC](#toc)\n",
    "\n",
    "Given that a number of session abstracts require 2 topic weights to cover their full range of lemmas, it may be the case that the number of topics needs to be increased from 5 to some other number of components (e.g. 10). However, a printout of the session titles covered by the 5 main topics, indicates that they do a pretty good job of clustering sessions that share common content."
   ]
  },
  {
   "cell_type": "code",
   "execution_count": 28,
   "metadata": {},
   "outputs": [
    {
     "name": "stdout",
     "output_type": "stream",
     "text": [
      "T0 ['application', 'technology', 'industrial', 'industry', 'smart', 'market', 'potential', 'optical', 'current', 'gas']\n",
      "T1 ['iot', 'company', 'look', 'network', 'connectivity', 'market', 'ecosystem', 'device', 'combine', 'growth']\n",
      "T2 ['power', 'battery', 'energy', 'device', 'solar', 'source', 'run', 'wireless', 'flexible', 'maintenance']\n",
      "T3 ['system', 'make', 'technique', 'lidar', 'decision', 'development', 'learn', 'autonomous', 'ai', 'intelligent']\n",
      "T4 ['data', 'communication', 'analytics', 'standard', 'wireless', 'generate', 'learn', 'technology', 'industrial', 'edge']\n"
     ]
    }
   ],
   "source": [
    "for key, val in top10LemmasPerTopic.items():\n",
    "    print(key, val)"
   ]
  },
  {
   "cell_type": "code",
   "execution_count": 29,
   "metadata": {
    "scrolled": true
   },
   "outputs": [
    {
     "name": "stdout",
     "output_type": "stream",
     "text": [
      "Summary Results of Topic Analysis: Top 10 Lemmas and Session Titles by Topics\n",
      "\n",
      "T0 Industrial Applications\n",
      "\n",
      "   Top 10 Lemmas:\n",
      "   ['application', 'technology', 'industrial', 'industry', 'smart', 'market', 'potential', 'optical', 'current', 'gas']\n",
      "\n",
      "   Sessions:\n",
      "   S04T03 EM4 - Forget Silver Bullets - Secure IIoT Applications Need Secure Application Code\n",
      "   S02T04 MA2 - Location Awareness for Industrial IoT\n",
      "   S06T04 MD1 - Process Sensor Needs in the Petrochemical Industry - Challenges and Drivers\n",
      "   S09T04 MD4 - Next Generation Intelligent Gas Sensors\n",
      "   S05T07 Ho Chi Minh City, Vietnam - An Open Sky for MEMS Eagles\n",
      "   S11T07 FW2 - Sensor Bundle Works with IoT for Safer Sports\n",
      "   S01T08 MEMS2 - Emerging MEMS & Sensor Technologies to Watch\n",
      "   S27T09 Thermal Sensor Technologies, Applications for Sensing and Imaging\n",
      "   S28T09 POF-Based Position Sensor Establishes New Industry Benchmark in Size, Performance and Cost\n",
      "   S01T11 O2 - 3D Vision with Time-of-Flight for Reliable Object Detection and Tracking\n",
      "   S03T11 O4 - Spectrometer Technology & Applications\n",
      "   S03T05 IoT8 - How IoT is Improving Cold Chain Management\n",
      "   S00T12 The Intel Market and Channel Acceleration Workshop\n",
      "   S14T12 America’s Seed Fund – The SBIR/STTR Program at the National Science Foundation\n",
      "   S26T12 Making Sense of Industrial IoT\n",
      "   S00T04 Pre-Conference Symposium 4 - Commercialization Opportunities for Printed, Flexible, Stretchable, an...\n",
      "   S07T04 MD2 - New Contactless Electric Current Sensors\n",
      "   S02T08 MEMS3 - Emerging Healthcare Applications for Optical Biosensing\n",
      "   S17T09 MEMS Metal Oxide Gas Sensing Process Platform\n",
      "   S34T09 Magnetic Sensing for the Coming Smart World\n",
      "   S03T10 FW4 - Printed, Flexible, Stretchable and Functional Fabric Sensors - Opportunities for Wearables, I...\n",
      "   S01T12 Ultra Low Power Chemical Sensors for Networked, Large Area Gas Sensing Applications\n",
      "   S24T12 Securing Your IoT Solution\n",
      "   S03T02 SA3 - Inductive Position Sensor Systems for Automotive and Industrial Applications\n",
      "   S12T07 FW3 - Why has Remote Monitoring for Senior Care Taken Off?\n",
      "   S00T08 MEMS1 - Ubiquitous Spectral Sensing - MEMS Spectral Sensors\n",
      "   S04T09 Non-Thermal Laser Processes Enable New Sensor Designs\n",
      "   S22T09 Low Power Microheater Based Platform fir Toxic Gas Sensing\n",
      "   S39T09 EM6 - Ensuring Software Code Quality for the IIoT\n",
      "   S05T12 Short Range Radar Implementation and Applications\n",
      "   S08T12 The Future of Engineering Education Panel\n",
      "   S38T09 EM5 - Optimize Your Industrial IoT Application in Every Dimension\n",
      "\n",
      "T1 Iot Connectivity\n",
      "\n",
      "   Top 10 Lemmas:\n",
      "   ['iot', 'company', 'look', 'network', 'connectivity', 'market', 'ecosystem', 'device', 'combine', 'growth']\n",
      "\n",
      "   Sessions:\n",
      "   S02T00 Intro into - IoT - Where Moore's Law and Metcalf's Law Collided - A Supernova of Activity or a Blac...\n",
      "   S09T07 Analyze This\n",
      "   S05T09 Hello, I Wanna Buy Some IoT - How Enterprises Purchase\n",
      "   S21T09 An Intelligent Edge - Defining Where the Edge Is\n",
      "   S24T09 Innovation in Automotive Sensors\n",
      "   S30T09 Defining IoT - From the Sensor to the Cloud\n",
      "   S35T09 IoT Opportunity Case Studies\n",
      "   S01T10 EM8 - The Future of Connectivity and How to Deal with Rapid Change\n",
      "   S03T12 The Survey Says - A Review of Survey Results on the IoT and Analytics Market\n",
      "   S13T12 IoT Connectivity Ecosystem Awards\n",
      "   S00T03 Pre-Conference Symposium 3 - Democratizing IoT - Connecting Technology with People\n",
      "   S03T04 MA3 - The Use of AI in Smart IoT Systems\n",
      "   S02T05 IoT7 - Open IoT Networks - Building a Scalable Network to Meet Future Needs – Now\n",
      "   S00T07 IoT1 - The Perceptual Era of IoT has Begun, Mobile Phones First\n",
      "   S13T07 Q & A with the Experts\n",
      "   S09T09 Understanding How Low Power Wide Area Networks (LPWAN) Brings IoT to Everyone\n",
      "   S18T09 How to Make LPWA a Market Leader\n",
      "   S37T09 Motion & Pressure Sensors for IoT (Industrial/Medical) Applications\n",
      "   S18T12 The Techstars Autonomous Technology Accelerator with the US Air Force\n",
      "   S04T05 IoT9 - Powered to Passive IoT Sensors\n",
      "   S08T07 What's Next for Sensors and IoT - Bluetooth\n",
      "   S15T09 Is Cellular Right for Your Application or Should You LPWAN?\n",
      "   S05T03 IoT5 - The First 100 IoT Deployments\n",
      "   S12T09 IoT 101 - From the Edge to the Enterprise - Functional Decomposition of the IoT Ecosystem\n",
      "   S13T09 Connecting the Unconnected - Security in the Age of IoT\n",
      "   S14T09 Auto Startup Review\n",
      "   S20T09 Getting Started Using Amazon FreeRTOS\n",
      "   S10T12 The Journey to Finished Products\n",
      "   S17T12 Global IoT Connectivity for a Digital Enterprise\n",
      "\n",
      "T2 Power Devices\n",
      "\n",
      "   Top 10 Lemmas:\n",
      "   ['power', 'battery', 'energy', 'device', 'solar', 'source', 'run', 'wireless', 'flexible', 'maintenance']\n",
      "\n",
      "   Sessions:\n",
      "   S00T02 Pre-Conference Symposium 2 - Energy Harvesting and Energy-Efficient Power Solutions for Sensor Appl...\n",
      "   S00T06 EH1 - Review of Energy Harvesting and Energy Storage Sources for Autonomous IoT Sensing Devices\n",
      "   S06T07 EH5 - Energy Harvesting with Thin-Film GaAs Solar Cells\n",
      "   S10T09 EH2 - Solar Power for Indoor Sensor Systems\n",
      "   S23T09 EH3 - Decoupling Battery Performance with High Power Density Supercapacitors\n",
      "   S00T11 O1 - Integration and Doing More with Less (Optical Sensors)\n",
      "   S04T12 Energy Harvesting with Thin-Film GaAs Solar Cells\n",
      "   S01T07 IoT2 - Challenges and Solutions of Fingerprint Sensor Integration in End-User Applications\n",
      "   S07T07 Motion, Pressure & Magnetic Sensors for Automotive Applications\n",
      "   S01T05 IoT6 - IoT Voice & Sensor Use Cases and Solutions\n",
      "   S20T12 What Sensor for What Application\n",
      "   S02T07 IoT3 - Intelligent Remote Sensing and Control with LoRa Plus Cellular - A Practical Guide\n",
      "   S31T09 EH4 - Nano Power Sensing and Sensor Fusion for Smart Building Automation Sensor Nodes\n",
      "   S15T12 Easy Smart Phone/Tablet interface to a Microcontroller\n",
      "\n",
      "T3 Intelligent Systems\n",
      "\n",
      "   Top 10 Lemmas:\n",
      "   ['system', 'make', 'technique', 'lidar', 'decision', 'development', 'learn', 'autonomous', 'ai', 'intelligent']\n",
      "\n",
      "   Sessions:\n",
      "   S03T03 EM3 - Layer IIoT Security on a Hardware Root of Trust\n",
      "   S01T04 MA1 - Vision AI for Human Behavior Understanding Inside Autonomous and Highly Automated Vehicles\n",
      "   S08T04 O3 - High Definition 3D LiDAR - The Key Sensing and Perception System for Self-Driving Cars\n",
      "   S00T05 Embedded Hands-On Workshop - Learn RISC-V, the Mi-V Ecosystem with an RTOS Bringup, MicroPython Scr...\n",
      "   S10T07 FW1 - Future Wearables and Effective Space Time Continuum - Monitoring of Human Condition\n",
      "   S01T09 Training Class - AI Development Platforms with Xilinx Adaptable Intelligence\n",
      "   S03T09 Managing Resource Utilization in Embedded Components\n",
      "   S08T09 Low-cost System Calibration Techniques for Sensor Systems\n",
      "   S19T09 Achieving Mass Commercialization - What Will It Take for Autonomous Driving to go Mainstream?\n",
      "   S25T09 Intelligence in the Cloud, A Case Study\n",
      "   S26T09 Koito – World’s Leading Tier 1 Automotive Supplier\n",
      "   S32T09 What is Next for Camera Sensing?\n",
      "   S02T11 DA3 - Embedded Systems Decisions Development and Optimization\n",
      "   S25T12 Aerospace Performance in Consumer Volumes - The Challenge of Automotive LiDAR\n",
      "   S27T12 CyberSmart - Teaching Tacit Knowledge using Behavioral Cognitive Models in the Domain of Personal D...\n",
      "   S01T00 Keynote Presentation - Sensor-Driven 3D Computer Vision and the Future of Human-Machine Interaction\n",
      "   S01T02 SA1 - State of the Robotics Industry\n",
      "   S04T02 SA4 - Why Solid-State Sensors are the Future of LiDAR\n",
      "   S07T09 Develop Secure Sensor Application Code Properly - Use an Automated Tool Suite\n",
      "   S29T09 STMicro Hands-On Workshop - Simplifying Integration of Sensors Data, Using the NFC Enabled Multi-Se...\n",
      "   S19T12 LIDAR in a Chip\n",
      "   S02T03 EM2 - Ecosystem Building Blocks for Production-Grade IIoT Systems\n",
      "   S06T12 Platforms that Enable IoT Solutions\n",
      "   S12T12 Amazon FreeRTOS Behind the Scenes\n",
      "   S21T12 Securing the IoT and Embedded Systems - A Workshop from Trusted Computing Group\n",
      "   S04T00 The Search for Life in Our Solar System - Opportunities for Sensor Development\n",
      "   S05T02 SA5 - Hybrid Plastic-Based MEMS Devices for Biomedical Applications\n",
      "   S02T09 Advanced Telemetry Systems for Research, Development, and Production\n",
      "   S06T09 Measuring Distance with Light for Automotive Industry - LiDAR and Other Techniques\n",
      "   S04T04 MA4 - Machine Learning on Deeply Embedded, Resource-Constrained IoT End-Nodes\n",
      "   S03T08 MEMS4 - Creating High-Resolution Environmental Insights Using Sensor Networks and Big Data\n",
      "   S00T09 STMicro Hands-On Workshop - Rapid Prototyping with MEMS Sensors and Microcontrollers - A Hands-On W...\n",
      "   S11T09 Beyond the Sensors - Enabling Robotics with Artificial Intelligence\n",
      "   S36T09 WISE - Women In Sensors Engineering\n",
      "   S02T10 EM9 - Machine Learning for IIoT Predictive Maintenance\n",
      "\n",
      "T4 Data Analytics\n",
      "\n",
      "   Top 10 Lemmas:\n",
      "   ['data', 'communication', 'analytics', 'standard', 'wireless', 'generate', 'learn', 'technology', 'industrial', 'edge']\n",
      "\n",
      "   Sessions:\n",
      "   S00T00 Keynote Presentation - Embedded Hands-On Workshop - Prototype an IoT Sensor Node with a Microchip M...\n",
      "   S06T00 DA1 - IoT Analytics Lifecycle - From Generating Data to Predicting the Future\n",
      "   S01T03 EM1 - Edge Intelligence - The Future of IIoT and Why You Need It Now\n",
      "   S03T07 IoT4 - Sensor Data Communication in Industrial Environment\n",
      "   S04T07 Sensor Data Communication in Industrial Environment\n",
      "   S16T09 Advanced Arduino Debugging\n",
      "   S07T12 Sensors in the Environment\n",
      "   S09T12 DA2 - Time Series Data Mining - No Matter Your Domain or Task, the Matrix Profile is (Almost) All Y...\n",
      "   S11T12 Enabling Data Warehouse at Scale\n",
      "   S00T10 EM7 - Leveraging LoRaWAN in Your Industrial Application\n",
      "   S23T12 A Strategy Proposal for the Rapid Adoption and Deployment of IIoT Technology\n",
      "   S03T00 Keynote Presentation - Extending Cloud-Native Principles to the Edge to Enable Scalable IoT Solutio...\n",
      "   S02T02 SA2 - How Sensor Fusion Enabled the Augmented Reality Toothbrush\n",
      "   S14T07 DA4 - Opportunities for ML Analytics at the Sensor Endpoint\n",
      "   S33T09 Sensing the Green in Brownfield Assets\n",
      "   S16T12 Embedding Analytics into Devices and Sensors\n",
      "   S22T12 Fabric Sensors Taking Virtual Out of VR\n",
      "   S00T01 Pre-Conference Symposium 1 - MEMS and Sensor Technologies Coming to an IoT Solution Near You\n",
      "   S05T04 MA5 - Advanced Data Analytics Workflows for Digital Health\n",
      "   S04T08 MEMS5 - Sensing Transformative New Uses with the Blockchain of Food\n",
      "   S02T12 The Critical Role of Sensors in IoT, IIoT, and IoMT Applications\n",
      "   S28T12 EM10 - Using AI with Sensor and Signal Data at the Edge and in the Cloud\n"
     ]
    }
   ],
   "source": [
    "import json\n",
    "with open('progDict.json') as f:\n",
    "   progDict = json.loads(f.read())\n",
    "\n",
    "sessTitleDict = {}\n",
    "for trkID in list(progDict.keys()):\n",
    "    for sessID in list(progDict[trkID]['sessions'].keys()):\n",
    "        sessTitleDict[sessID] = progDict[trkID]['sessions'][sessID]['sessTitle']\n",
    "        #print(trkID, sessID, sessTitleDict[sessID])\n",
    "        \n",
    "topicTitle = {}\n",
    "topicTitle = {'T0': 'Industrial Applications', 'T1':'Iot Connectivity', 'T2':'Power Devices', 'T3':'Intelligent Systems', 'T4':'Data Analytics'}\n",
    "topicPrintFlag = [0,0,0,0,0]\n",
    "\n",
    "print('Summary Results of Topic Analysis: Top 10 Lemmas and Session Titles by Topics')\n",
    "\n",
    "for key, values in clusterKeys.items():\n",
    "    topic = key[0:2]\n",
    "    topicNum = int(key[1])\n",
    "    topTitle = topicTitle[topic]\n",
    "    if topicPrintFlag[topicNum] == 0:\n",
    "        print('')\n",
    "        topicPrintFlag[topicNum] = 1\n",
    "        top10Lemmas =  top10LemmasPerTopic[topic]\n",
    "        print(topic, topTitle)\n",
    "        print('')\n",
    "        print('  ','Top 10 Lemmas:')\n",
    "        print('  ',top10Lemmas)\n",
    "        print('')\n",
    "        print('  ','Sessions:')\n",
    "    for val in values:\n",
    "        if val in list(sessTitleDict.keys()):\n",
    "            sessTitle = sessTitleDict[val]\n",
    "            if len(sessTitle) > 100:\n",
    "                sessTitle = sessTitle[0:99] + '...'\n",
    "            print('  ', val,sessTitle)\n"
   ]
  },
  {
   "cell_type": "markdown",
   "metadata": {},
   "source": [
    "<a class=\"anchor\" id=\"concluding remarks\"></a>\n",
    "<h4>Concluding Remarks</h4>\n",
    "* [Return to TOC](#toc)\n",
    "\n",
    "In the introduction, three interrelated questions were raised:\n",
    "\n",
    "<ol>\n",
    "    <li>Is there a relatively short list of topics that capture the essense of conference content?</li>\n",
    "    <li>If there is a shortlist, are there differences among the sessions with respect to these topics?</li>\n",
    "    <li>Similarly, are there differences among the tracks with respect to these topics?</li>\n",
    "</ol>\n",
    "\n",
    "For the most the answers are yes. The main caveat is that while this analysis could certainly be refined in a number of ways the fact of the matter is that conference programs are not well-oiled machines when it comes to establishing boundaries between tracks and sessions. In many conferences the hot topics -- like IoT and IIoT, AI, and machine learning -- tend to spill across these boundaries. If a conference has an interest increasing uniformity within their tracks and sessions, topic modeling could provide one way of doing so. On the other hand, if uniformity is not a goal, then other forms of machine learning and analysis could assist in making recommendations to attendees (but that's a subject for another notebook).\n",
    "\n",
    "<a class=\"anchor\" id=\"next step\"></a>\n",
    "<h4>Next Step</h4>\n",
    "* [Return to TOC](#toc)\n",
    "\n",
    "Beside clustering and topic modeling, there are additional ways to understand and summarize the overall conference content. One of these, network analysis, is explored in the next notebook."
   ]
  },
  {
   "cell_type": "code",
   "execution_count": null,
   "metadata": {},
   "outputs": [],
   "source": []
  }
 ],
 "metadata": {
  "CodeCell": {
   "cm_config": {
    "lineWrapping": true
   }
  },
  "MarkdownCell": {
   "cm_config": {
    "lineWrapping": true
   }
  },
  "kernelspec": {
   "display_name": "Python 3",
   "language": "python",
   "name": "python3"
  },
  "language_info": {
   "codemirror_mode": {
    "name": "ipython",
    "version": 3
   },
   "file_extension": ".py",
   "mimetype": "text/x-python",
   "name": "python",
   "nbconvert_exporter": "python",
   "pygments_lexer": "ipython3",
   "version": "3.6.4"
  }
 },
 "nbformat": 4,
 "nbformat_minor": 2
}
