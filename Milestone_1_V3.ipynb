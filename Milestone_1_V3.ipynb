{
  "nbformat": 4,
  "nbformat_minor": 0,
  "metadata": {
    "colab": {
      "name": "Untitled0.ipynb",
      "provenance": [],
      "collapsed_sections": [],
      "authorship_tag": "ABX9TyPUoUKQ/cpltNa/Q0G77E1i",
      "include_colab_link": true
    },
    "kernelspec": {
      "name": "python3",
      "display_name": "Python 3"
    }
  },
  "cells": [
    {
      "cell_type": "markdown",
      "metadata": {
        "id": "view-in-github",
        "colab_type": "text"
      },
      "source": [
        "<a href=\"https://colab.research.google.com/github/daveking63/Analysis-Sensors-Expo/blob/master/Milestone_1_V3.ipynb\" target=\"_parent\"><img src=\"https://colab.research.google.com/assets/colab-badge.svg\" alt=\"Open In Colab\"/></a>"
      ]
    },
    {
      "cell_type": "code",
      "metadata": {
        "id": "vIcMyLzxboPB",
        "colab_type": "code",
        "colab": {}
      },
      "source": [
        "import warnings\n",
        "warnings.filterwarnings('ignore')"
      ],
      "execution_count": 96,
      "outputs": []
    },
    {
      "cell_type": "code",
      "metadata": {
        "id": "fzz04hdTKznZ",
        "colab_type": "code",
        "colab": {
          "resources": {
            "http://localhost:8080/nbextensions/google.colab/files.js": {
              "data": "Ly8gQ29weXJpZ2h0IDIwMTcgR29vZ2xlIExMQwovLwovLyBMaWNlbnNlZCB1bmRlciB0aGUgQXBhY2hlIExpY2Vuc2UsIFZlcnNpb24gMi4wICh0aGUgIkxpY2Vuc2UiKTsKLy8geW91IG1heSBub3QgdXNlIHRoaXMgZmlsZSBleGNlcHQgaW4gY29tcGxpYW5jZSB3aXRoIHRoZSBMaWNlbnNlLgovLyBZb3UgbWF5IG9idGFpbiBhIGNvcHkgb2YgdGhlIExpY2Vuc2UgYXQKLy8KLy8gICAgICBodHRwOi8vd3d3LmFwYWNoZS5vcmcvbGljZW5zZXMvTElDRU5TRS0yLjAKLy8KLy8gVW5sZXNzIHJlcXVpcmVkIGJ5IGFwcGxpY2FibGUgbGF3IG9yIGFncmVlZCB0byBpbiB3cml0aW5nLCBzb2Z0d2FyZQovLyBkaXN0cmlidXRlZCB1bmRlciB0aGUgTGljZW5zZSBpcyBkaXN0cmlidXRlZCBvbiBhbiAiQVMgSVMiIEJBU0lTLAovLyBXSVRIT1VUIFdBUlJBTlRJRVMgT1IgQ09ORElUSU9OUyBPRiBBTlkgS0lORCwgZWl0aGVyIGV4cHJlc3Mgb3IgaW1wbGllZC4KLy8gU2VlIHRoZSBMaWNlbnNlIGZvciB0aGUgc3BlY2lmaWMgbGFuZ3VhZ2UgZ292ZXJuaW5nIHBlcm1pc3Npb25zIGFuZAovLyBsaW1pdGF0aW9ucyB1bmRlciB0aGUgTGljZW5zZS4KCi8qKgogKiBAZmlsZW92ZXJ2aWV3IEhlbHBlcnMgZm9yIGdvb2dsZS5jb2xhYiBQeXRob24gbW9kdWxlLgogKi8KKGZ1bmN0aW9uKHNjb3BlKSB7CmZ1bmN0aW9uIHNwYW4odGV4dCwgc3R5bGVBdHRyaWJ1dGVzID0ge30pIHsKICBjb25zdCBlbGVtZW50ID0gZG9jdW1lbnQuY3JlYXRlRWxlbWVudCgnc3BhbicpOwogIGVsZW1lbnQudGV4dENvbnRlbnQgPSB0ZXh0OwogIGZvciAoY29uc3Qga2V5IG9mIE9iamVjdC5rZXlzKHN0eWxlQXR0cmlidXRlcykpIHsKICAgIGVsZW1lbnQuc3R5bGVba2V5XSA9IHN0eWxlQXR0cmlidXRlc1trZXldOwogIH0KICByZXR1cm4gZWxlbWVudDsKfQoKLy8gTWF4IG51bWJlciBvZiBieXRlcyB3aGljaCB3aWxsIGJlIHVwbG9hZGVkIGF0IGEgdGltZS4KY29uc3QgTUFYX1BBWUxPQURfU0laRSA9IDEwMCAqIDEwMjQ7CgpmdW5jdGlvbiBfdXBsb2FkRmlsZXMoaW5wdXRJZCwgb3V0cHV0SWQpIHsKICBjb25zdCBzdGVwcyA9IHVwbG9hZEZpbGVzU3RlcChpbnB1dElkLCBvdXRwdXRJZCk7CiAgY29uc3Qgb3V0cHV0RWxlbWVudCA9IGRvY3VtZW50LmdldEVsZW1lbnRCeUlkKG91dHB1dElkKTsKICAvLyBDYWNoZSBzdGVwcyBvbiB0aGUgb3V0cHV0RWxlbWVudCB0byBtYWtlIGl0IGF2YWlsYWJsZSBmb3IgdGhlIG5leHQgY2FsbAogIC8vIHRvIHVwbG9hZEZpbGVzQ29udGludWUgZnJvbSBQeXRob24uCiAgb3V0cHV0RWxlbWVudC5zdGVwcyA9IHN0ZXBzOwoKICByZXR1cm4gX3VwbG9hZEZpbGVzQ29udGludWUob3V0cHV0SWQpOwp9CgovLyBUaGlzIGlzIHJvdWdobHkgYW4gYXN5bmMgZ2VuZXJhdG9yIChub3Qgc3VwcG9ydGVkIGluIHRoZSBicm93c2VyIHlldCksCi8vIHdoZXJlIHRoZXJlIGFyZSBtdWx0aXBsZSBhc3luY2hyb25vdXMgc3RlcHMgYW5kIHRoZSBQeXRob24gc2lkZSBpcyBnb2luZwovLyB0byBwb2xsIGZvciBjb21wbGV0aW9uIG9mIGVhY2ggc3RlcC4KLy8gVGhpcyB1c2VzIGEgUHJvbWlzZSB0byBibG9jayB0aGUgcHl0aG9uIHNpZGUgb24gY29tcGxldGlvbiBvZiBlYWNoIHN0ZXAsCi8vIHRoZW4gcGFzc2VzIHRoZSByZXN1bHQgb2YgdGhlIHByZXZpb3VzIHN0ZXAgYXMgdGhlIGlucHV0IHRvIHRoZSBuZXh0IHN0ZXAuCmZ1bmN0aW9uIF91cGxvYWRGaWxlc0NvbnRpbnVlKG91dHB1dElkKSB7CiAgY29uc3Qgb3V0cHV0RWxlbWVudCA9IGRvY3VtZW50LmdldEVsZW1lbnRCeUlkKG91dHB1dElkKTsKICBjb25zdCBzdGVwcyA9IG91dHB1dEVsZW1lbnQuc3RlcHM7CgogIGNvbnN0IG5leHQgPSBzdGVwcy5uZXh0KG91dHB1dEVsZW1lbnQubGFzdFByb21pc2VWYWx1ZSk7CiAgcmV0dXJuIFByb21pc2UucmVzb2x2ZShuZXh0LnZhbHVlLnByb21pc2UpLnRoZW4oKHZhbHVlKSA9PiB7CiAgICAvLyBDYWNoZSB0aGUgbGFzdCBwcm9taXNlIHZhbHVlIHRvIG1ha2UgaXQgYXZhaWxhYmxlIHRvIHRoZSBuZXh0CiAgICAvLyBzdGVwIG9mIHRoZSBnZW5lcmF0b3IuCiAgICBvdXRwdXRFbGVtZW50Lmxhc3RQcm9taXNlVmFsdWUgPSB2YWx1ZTsKICAgIHJldHVybiBuZXh0LnZhbHVlLnJlc3BvbnNlOwogIH0pOwp9CgovKioKICogR2VuZXJhdG9yIGZ1bmN0aW9uIHdoaWNoIGlzIGNhbGxlZCBiZXR3ZWVuIGVhY2ggYXN5bmMgc3RlcCBvZiB0aGUgdXBsb2FkCiAqIHByb2Nlc3MuCiAqIEBwYXJhbSB7c3RyaW5nfSBpbnB1dElkIEVsZW1lbnQgSUQgb2YgdGhlIGlucHV0IGZpbGUgcGlja2VyIGVsZW1lbnQuCiAqIEBwYXJhbSB7c3RyaW5nfSBvdXRwdXRJZCBFbGVtZW50IElEIG9mIHRoZSBvdXRwdXQgZGlzcGxheS4KICogQHJldHVybiB7IUl0ZXJhYmxlPCFPYmplY3Q+fSBJdGVyYWJsZSBvZiBuZXh0IHN0ZXBzLgogKi8KZnVuY3Rpb24qIHVwbG9hZEZpbGVzU3RlcChpbnB1dElkLCBvdXRwdXRJZCkgewogIGNvbnN0IGlucHV0RWxlbWVudCA9IGRvY3VtZW50LmdldEVsZW1lbnRCeUlkKGlucHV0SWQpOwogIGlucHV0RWxlbWVudC5kaXNhYmxlZCA9IGZhbHNlOwoKICBjb25zdCBvdXRwdXRFbGVtZW50ID0gZG9jdW1lbnQuZ2V0RWxlbWVudEJ5SWQob3V0cHV0SWQpOwogIG91dHB1dEVsZW1lbnQuaW5uZXJIVE1MID0gJyc7CgogIGNvbnN0IHBpY2tlZFByb21pc2UgPSBuZXcgUHJvbWlzZSgocmVzb2x2ZSkgPT4gewogICAgaW5wdXRFbGVtZW50LmFkZEV2ZW50TGlzdGVuZXIoJ2NoYW5nZScsIChlKSA9PiB7CiAgICAgIHJlc29sdmUoZS50YXJnZXQuZmlsZXMpOwogICAgfSk7CiAgfSk7CgogIGNvbnN0IGNhbmNlbCA9IGRvY3VtZW50LmNyZWF0ZUVsZW1lbnQoJ2J1dHRvbicpOwogIGlucHV0RWxlbWVudC5wYXJlbnRFbGVtZW50LmFwcGVuZENoaWxkKGNhbmNlbCk7CiAgY2FuY2VsLnRleHRDb250ZW50ID0gJ0NhbmNlbCB1cGxvYWQnOwogIGNvbnN0IGNhbmNlbFByb21pc2UgPSBuZXcgUHJvbWlzZSgocmVzb2x2ZSkgPT4gewogICAgY2FuY2VsLm9uY2xpY2sgPSAoKSA9PiB7CiAgICAgIHJlc29sdmUobnVsbCk7CiAgICB9OwogIH0pOwoKICAvLyBXYWl0IGZvciB0aGUgdXNlciB0byBwaWNrIHRoZSBmaWxlcy4KICBjb25zdCBmaWxlcyA9IHlpZWxkIHsKICAgIHByb21pc2U6IFByb21pc2UucmFjZShbcGlja2VkUHJvbWlzZSwgY2FuY2VsUHJvbWlzZV0pLAogICAgcmVzcG9uc2U6IHsKICAgICAgYWN0aW9uOiAnc3RhcnRpbmcnLAogICAgfQogIH07CgogIGNhbmNlbC5yZW1vdmUoKTsKCiAgLy8gRGlzYWJsZSB0aGUgaW5wdXQgZWxlbWVudCBzaW5jZSBmdXJ0aGVyIHBpY2tzIGFyZSBub3QgYWxsb3dlZC4KICBpbnB1dEVsZW1lbnQuZGlzYWJsZWQgPSB0cnVlOwoKICBpZiAoIWZpbGVzKSB7CiAgICByZXR1cm4gewogICAgICByZXNwb25zZTogewogICAgICAgIGFjdGlvbjogJ2NvbXBsZXRlJywKICAgICAgfQogICAgfTsKICB9CgogIGZvciAoY29uc3QgZmlsZSBvZiBmaWxlcykgewogICAgY29uc3QgbGkgPSBkb2N1bWVudC5jcmVhdGVFbGVtZW50KCdsaScpOwogICAgbGkuYXBwZW5kKHNwYW4oZmlsZS5uYW1lLCB7Zm9udFdlaWdodDogJ2JvbGQnfSkpOwogICAgbGkuYXBwZW5kKHNwYW4oCiAgICAgICAgYCgke2ZpbGUudHlwZSB8fCAnbi9hJ30pIC0gJHtmaWxlLnNpemV9IGJ5dGVzLCBgICsKICAgICAgICBgbGFzdCBtb2RpZmllZDogJHsKICAgICAgICAgICAgZmlsZS5sYXN0TW9kaWZpZWREYXRlID8gZmlsZS5sYXN0TW9kaWZpZWREYXRlLnRvTG9jYWxlRGF0ZVN0cmluZygpIDoKICAgICAgICAgICAgICAgICAgICAgICAgICAgICAgICAgICAgJ24vYSd9IC0gYCkpOwogICAgY29uc3QgcGVyY2VudCA9IHNwYW4oJzAlIGRvbmUnKTsKICAgIGxpLmFwcGVuZENoaWxkKHBlcmNlbnQpOwoKICAgIG91dHB1dEVsZW1lbnQuYXBwZW5kQ2hpbGQobGkpOwoKICAgIGNvbnN0IGZpbGVEYXRhUHJvbWlzZSA9IG5ldyBQcm9taXNlKChyZXNvbHZlKSA9PiB7CiAgICAgIGNvbnN0IHJlYWRlciA9IG5ldyBGaWxlUmVhZGVyKCk7CiAgICAgIHJlYWRlci5vbmxvYWQgPSAoZSkgPT4gewogICAgICAgIHJlc29sdmUoZS50YXJnZXQucmVzdWx0KTsKICAgICAgfTsKICAgICAgcmVhZGVyLnJlYWRBc0FycmF5QnVmZmVyKGZpbGUpOwogICAgfSk7CiAgICAvLyBXYWl0IGZvciB0aGUgZGF0YSB0byBiZSByZWFkeS4KICAgIGxldCBmaWxlRGF0YSA9IHlpZWxkIHsKICAgICAgcHJvbWlzZTogZmlsZURhdGFQcm9taXNlLAogICAgICByZXNwb25zZTogewogICAgICAgIGFjdGlvbjogJ2NvbnRpbnVlJywKICAgICAgfQogICAgfTsKCiAgICAvLyBVc2UgYSBjaHVua2VkIHNlbmRpbmcgdG8gYXZvaWQgbWVzc2FnZSBzaXplIGxpbWl0cy4gU2VlIGIvNjIxMTU2NjAuCiAgICBsZXQgcG9zaXRpb24gPSAwOwogICAgd2hpbGUgKHBvc2l0aW9uIDwgZmlsZURhdGEuYnl0ZUxlbmd0aCkgewogICAgICBjb25zdCBsZW5ndGggPSBNYXRoLm1pbihmaWxlRGF0YS5ieXRlTGVuZ3RoIC0gcG9zaXRpb24sIE1BWF9QQVlMT0FEX1NJWkUpOwogICAgICBjb25zdCBjaHVuayA9IG5ldyBVaW50OEFycmF5KGZpbGVEYXRhLCBwb3NpdGlvbiwgbGVuZ3RoKTsKICAgICAgcG9zaXRpb24gKz0gbGVuZ3RoOwoKICAgICAgY29uc3QgYmFzZTY0ID0gYnRvYShTdHJpbmcuZnJvbUNoYXJDb2RlLmFwcGx5KG51bGwsIGNodW5rKSk7CiAgICAgIHlpZWxkIHsKICAgICAgICByZXNwb25zZTogewogICAgICAgICAgYWN0aW9uOiAnYXBwZW5kJywKICAgICAgICAgIGZpbGU6IGZpbGUubmFtZSwKICAgICAgICAgIGRhdGE6IGJhc2U2NCwKICAgICAgICB9LAogICAgICB9OwogICAgICBwZXJjZW50LnRleHRDb250ZW50ID0KICAgICAgICAgIGAke01hdGgucm91bmQoKHBvc2l0aW9uIC8gZmlsZURhdGEuYnl0ZUxlbmd0aCkgKiAxMDApfSUgZG9uZWA7CiAgICB9CiAgfQoKICAvLyBBbGwgZG9uZS4KICB5aWVsZCB7CiAgICByZXNwb25zZTogewogICAgICBhY3Rpb246ICdjb21wbGV0ZScsCiAgICB9CiAgfTsKfQoKc2NvcGUuZ29vZ2xlID0gc2NvcGUuZ29vZ2xlIHx8IHt9OwpzY29wZS5nb29nbGUuY29sYWIgPSBzY29wZS5nb29nbGUuY29sYWIgfHwge307CnNjb3BlLmdvb2dsZS5jb2xhYi5fZmlsZXMgPSB7CiAgX3VwbG9hZEZpbGVzLAogIF91cGxvYWRGaWxlc0NvbnRpbnVlLAp9Owp9KShzZWxmKTsK",
              "ok": true,
              "headers": [
                [
                  "content-type",
                  "application/javascript"
                ]
              ],
              "status": 200,
              "status_text": ""
            }
          },
          "base_uri": "https://localhost:8080/",
          "height": 140
        },
        "outputId": "53ce2893-7040-4cae-a5af-e43ad8353840"
      },
      "source": [
        "from google.colab import files\n",
        "data_to_load = files.upload()"
      ],
      "execution_count": 97,
      "outputs": [
        {
          "output_type": "display_data",
          "data": {
            "text/html": [
              "\n",
              "     <input type=\"file\" id=\"files-2710bd99-bfc4-4fd1-ab8a-fa70c5dae4b9\" name=\"files[]\" multiple disabled\n",
              "        style=\"border:none\" />\n",
              "     <output id=\"result-2710bd99-bfc4-4fd1-ab8a-fa70c5dae4b9\">\n",
              "      Upload widget is only available when the cell has been executed in the\n",
              "      current browser session. Please rerun this cell to enable.\n",
              "      </output>\n",
              "      <script src=\"/nbextensions/google.colab/files.js\"></script> "
            ],
            "text/plain": [
              "<IPython.core.display.HTML object>"
            ]
          },
          "metadata": {
            "tags": []
          }
        },
        {
          "output_type": "stream",
          "text": [
            "Saving verdict_ranks.txt to verdict_ranks (4).txt\n",
            "Saving bw_success_measures.txt to bw_success_measures (9).txt\n",
            "Saving india_cpi_2020.txt to india_cpi_2020 (9).txt\n"
          ],
          "name": "stdout"
        }
      ]
    },
    {
      "cell_type": "code",
      "metadata": {
        "id": "IjpKvn6Z7Q1_",
        "colab_type": "code",
        "colab": {}
      },
      "source": [
        "import pandas as pd\n",
        "import numpy as np\n",
        "import seaborn as sns\n",
        "import matplotlib.pyplot as plt\n",
        "%matplotlib inline"
      ],
      "execution_count": 98,
      "outputs": []
    },
    {
      "cell_type": "code",
      "metadata": {
        "id": "FYeDayafSxj7",
        "colab_type": "code",
        "colab": {}
      },
      "source": [
        "import io\n",
        "df_sm = pd.read_csv(io.BytesIO(data_to_load['bw_success_measures.txt']),sep='\\t')"
      ],
      "execution_count": 99,
      "outputs": []
    },
    {
      "cell_type": "code",
      "metadata": {
        "id": "Tj87KOElL2uk",
        "colab_type": "code",
        "colab": {
          "base_uri": "https://localhost:8080/",
          "height": 272
        },
        "outputId": "f5ddb983-9596-4d1a-ca70-f57f655a051d"
      },
      "source": [
        "# Total sample size, variables, missing values, data types for download file\n",
        "df_sm.info()"
      ],
      "execution_count": 100,
      "outputs": [
        {
          "output_type": "stream",
          "text": [
            "<class 'pandas.core.frame.DataFrame'>\n",
            "RangeIndex: 2963 entries, 0 to 2962\n",
            "Data columns (total 8 columns):\n",
            " #   Column         Non-Null Count  Dtype  \n",
            "---  ------         --------------  -----  \n",
            " 0   film           2963 non-null   object \n",
            " 1   id             2963 non-null   int64  \n",
            " 2   rank           2963 non-null   int64  \n",
            " 3   release_date   2963 non-null   object \n",
            " 4   verdict        2963 non-null   object \n",
            " 5   budget         2797 non-null   float64\n",
            " 6   first_week     2466 non-null   float64\n",
            " 7   tot_net_gross  2963 non-null   float64\n",
            "dtypes: float64(3), int64(2), object(3)\n",
            "memory usage: 185.3+ KB\n"
          ],
          "name": "stdout"
        }
      ]
    },
    {
      "cell_type": "code",
      "metadata": {
        "id": "HyunhOBFQ3no",
        "colab_type": "code",
        "colab": {
          "base_uri": "https://localhost:8080/",
          "height": 297
        },
        "outputId": "edf8f2d1-04f1-442d-a1a0-db4c550f9438"
      },
      "source": [
        "# Summary of aggregate measures for key financial (response/dependent) variables\n",
        "# mean, std, min ... all in Indian Crores (10M rupees)\n",
        "\n",
        "df_sm[['budget','first_week','tot_net_gross']].describe()"
      ],
      "execution_count": 101,
      "outputs": [
        {
          "output_type": "execute_result",
          "data": {
            "text/html": [
              "<div>\n",
              "<style scoped>\n",
              "    .dataframe tbody tr th:only-of-type {\n",
              "        vertical-align: middle;\n",
              "    }\n",
              "\n",
              "    .dataframe tbody tr th {\n",
              "        vertical-align: top;\n",
              "    }\n",
              "\n",
              "    .dataframe thead th {\n",
              "        text-align: right;\n",
              "    }\n",
              "</style>\n",
              "<table border=\"1\" class=\"dataframe\">\n",
              "  <thead>\n",
              "    <tr style=\"text-align: right;\">\n",
              "      <th></th>\n",
              "      <th>budget</th>\n",
              "      <th>first_week</th>\n",
              "      <th>tot_net_gross</th>\n",
              "    </tr>\n",
              "  </thead>\n",
              "  <tbody>\n",
              "    <tr>\n",
              "      <th>count</th>\n",
              "      <td>2797.000000</td>\n",
              "      <td>2466.000000</td>\n",
              "      <td>2963.00000</td>\n",
              "    </tr>\n",
              "    <tr>\n",
              "      <th>mean</th>\n",
              "      <td>13.391911</td>\n",
              "      <td>9.523644</td>\n",
              "      <td>12.64578</td>\n",
              "    </tr>\n",
              "    <tr>\n",
              "      <th>std</th>\n",
              "      <td>27.234132</td>\n",
              "      <td>22.247333</td>\n",
              "      <td>32.94777</td>\n",
              "    </tr>\n",
              "    <tr>\n",
              "      <th>min</th>\n",
              "      <td>0.080000</td>\n",
              "      <td>0.003000</td>\n",
              "      <td>0.00500</td>\n",
              "    </tr>\n",
              "    <tr>\n",
              "      <th>25%</th>\n",
              "      <td>1.250000</td>\n",
              "      <td>0.435000</td>\n",
              "      <td>0.23350</td>\n",
              "    </tr>\n",
              "    <tr>\n",
              "      <th>50%</th>\n",
              "      <td>4.500000</td>\n",
              "      <td>1.871500</td>\n",
              "      <td>1.67500</td>\n",
              "    </tr>\n",
              "    <tr>\n",
              "      <th>75%</th>\n",
              "      <td>14.000000</td>\n",
              "      <td>6.737500</td>\n",
              "      <td>8.96750</td>\n",
              "    </tr>\n",
              "    <tr>\n",
              "      <th>max</th>\n",
              "      <td>575.000000</td>\n",
              "      <td>246.470000</td>\n",
              "      <td>510.36000</td>\n",
              "    </tr>\n",
              "  </tbody>\n",
              "</table>\n",
              "</div>"
            ],
            "text/plain": [
              "            budget   first_week  tot_net_gross\n",
              "count  2797.000000  2466.000000     2963.00000\n",
              "mean     13.391911     9.523644       12.64578\n",
              "std      27.234132    22.247333       32.94777\n",
              "min       0.080000     0.003000        0.00500\n",
              "25%       1.250000     0.435000        0.23350\n",
              "50%       4.500000     1.871500        1.67500\n",
              "75%      14.000000     6.737500        8.96750\n",
              "max     575.000000   246.470000      510.36000"
            ]
          },
          "metadata": {
            "tags": []
          },
          "execution_count": 101
        }
      ]
    },
    {
      "cell_type": "code",
      "metadata": {
        "id": "8tqud9zi5YDI",
        "colab_type": "code",
        "colab": {
          "base_uri": "https://localhost:8080/",
          "height": 289
        },
        "outputId": "9ec872cf-e8f2-456d-a17b-847e17a65aec"
      },
      "source": [
        "# As a precursor to handling missing data create and\n",
        "# insert the year the film was made and a numerical\n",
        "# variable representing the values for the ordinal variable 'verdict'\n",
        "\n",
        "# Convert the release_date to 'datetime', then insert\n",
        "# a new column release_year (int)\n",
        "\n",
        "import datetime\n",
        "release_year = pd.Series([])\n",
        "df_sm['release_date'] = pd.to_datetime(df_sm['release_date'])\n",
        "release_year = df_sm['release_date'].map(lambda x: int(x.strftime('%Y')))\n",
        "df_sm.insert(4, \"release_year\", release_year)\n",
        "df_sm.info()"
      ],
      "execution_count": 102,
      "outputs": [
        {
          "output_type": "stream",
          "text": [
            "<class 'pandas.core.frame.DataFrame'>\n",
            "RangeIndex: 2963 entries, 0 to 2962\n",
            "Data columns (total 9 columns):\n",
            " #   Column         Non-Null Count  Dtype         \n",
            "---  ------         --------------  -----         \n",
            " 0   film           2963 non-null   object        \n",
            " 1   id             2963 non-null   int64         \n",
            " 2   rank           2963 non-null   int64         \n",
            " 3   release_date   2963 non-null   datetime64[ns]\n",
            " 4   release_year   2963 non-null   int64         \n",
            " 5   verdict        2963 non-null   object        \n",
            " 6   budget         2797 non-null   float64       \n",
            " 7   first_week     2466 non-null   float64       \n",
            " 8   tot_net_gross  2963 non-null   float64       \n",
            "dtypes: datetime64[ns](1), float64(3), int64(3), object(2)\n",
            "memory usage: 208.5+ KB\n"
          ],
          "name": "stdout"
        }
      ]
    },
    {
      "cell_type": "code",
      "metadata": {
        "id": "6K_MpGPR95I_",
        "colab_type": "code",
        "colab": {
          "base_uri": "https://localhost:8080/",
          "height": 323
        },
        "outputId": "8ac21608-7dab-4d1f-b1c2-02d4b3e817ff"
      },
      "source": [
        "# Insert a new variable 'verdict_ranking' that assigns a numerical value 1-9\n",
        "# to the ordinal variable 'verdict' whose string values are:\n",
        "# Disaster, Flop, Below Average, Average, Semi Hit, Hit, Super Hit, Blockbuster, All Time Blockbuster\n",
        "\n",
        "# read file containing verdicts and associated verdict ranks\n",
        "df_verdicts = pd.read_csv(io.BytesIO(data_to_load['verdict_ranks.txt']),sep='\\t')\n",
        "\n",
        "# create a dictionary associating verdicts with verdict ranks\n",
        "verdict_dict = dict(zip(df_verdicts.verdict, df_verdicts.verdict_rank))\n",
        "\n",
        "verdict_rank_list = []\n",
        "for i in range(df_sm.shape[0]):\n",
        "  vrank = verdict_dict[df_sm.loc[i, 'verdict']]\n",
        "  verdict_rank_list.append(vrank)\n",
        "\n",
        "df_sm.insert(6, \"verdict_rank\", verdict_rank_list)\n",
        "print(df_sm.info())"
      ],
      "execution_count": 108,
      "outputs": [
        {
          "output_type": "stream",
          "text": [
            "<class 'pandas.core.frame.DataFrame'>\n",
            "RangeIndex: 2963 entries, 0 to 2962\n",
            "Data columns (total 10 columns):\n",
            " #   Column         Non-Null Count  Dtype         \n",
            "---  ------         --------------  -----         \n",
            " 0   film           2963 non-null   object        \n",
            " 1   id             2963 non-null   int64         \n",
            " 2   rank           2963 non-null   int64         \n",
            " 3   release_date   2963 non-null   datetime64[ns]\n",
            " 4   release_year   2963 non-null   int64         \n",
            " 5   verdict        2963 non-null   object        \n",
            " 6   verdict_rank   2963 non-null   int64         \n",
            " 7   budget         2797 non-null   float64       \n",
            " 8   first_week     2466 non-null   float64       \n",
            " 9   tot_net_gross  2963 non-null   float64       \n",
            "dtypes: datetime64[ns](1), float64(3), int64(4), object(2)\n",
            "memory usage: 231.6+ KB\n",
            "None\n"
          ],
          "name": "stdout"
        }
      ]
    },
    {
      "cell_type": "code",
      "metadata": {
        "id": "JdnkQB6kwBRs",
        "colab_type": "code",
        "colab": {
          "base_uri": "https://localhost:8080/",
          "height": 603
        },
        "outputId": "c073a1b2-778e-493c-cdbb-96b08d58e97c"
      },
      "source": [
        "# Handling Missing Data\n",
        "\n",
        "# Option 1:\n",
        "# Drop rows with missing budget or first_week\n",
        "# There are 166 rows or films missing budget data and 497 missing first_week revenues\n",
        "# Decision is to drop the rows with missing first_week revenues\n",
        "\n",
        "df_sm_miss = df_sm.copy(deep=True)\n",
        "df_sm_miss = df_sm_drop.dropna(subset=['first_week'])\n",
        "df_sm_miss.index = range(len(df_sm_miss.index))\n",
        "print(df_sm_miss.info())\n",
        "\n",
        "df_sm_miss_agg = df_sm_drop[['budget','first_week','tot_net_gross']].describe()\n",
        "df_sm_miss_agg"
      ],
      "execution_count": 169,
      "outputs": [
        {
          "output_type": "stream",
          "text": [
            "<class 'pandas.core.frame.DataFrame'>\n",
            "RangeIndex: 2466 entries, 0 to 2465\n",
            "Data columns (total 10 columns):\n",
            " #   Column         Non-Null Count  Dtype         \n",
            "---  ------         --------------  -----         \n",
            " 0   film           2466 non-null   object        \n",
            " 1   id             2466 non-null   int64         \n",
            " 2   rank           2466 non-null   int64         \n",
            " 3   release_date   2466 non-null   datetime64[ns]\n",
            " 4   release_year   2466 non-null   int64         \n",
            " 5   verdict        2466 non-null   object        \n",
            " 6   verdict_rank   2466 non-null   int64         \n",
            " 7   budget         2354 non-null   float64       \n",
            " 8   first_week     2466 non-null   float64       \n",
            " 9   tot_net_gross  2466 non-null   float64       \n",
            "dtypes: datetime64[ns](1), float64(3), int64(4), object(2)\n",
            "memory usage: 192.8+ KB\n",
            "None\n"
          ],
          "name": "stdout"
        },
        {
          "output_type": "execute_result",
          "data": {
            "text/html": [
              "<div>\n",
              "<style scoped>\n",
              "    .dataframe tbody tr th:only-of-type {\n",
              "        vertical-align: middle;\n",
              "    }\n",
              "\n",
              "    .dataframe tbody tr th {\n",
              "        vertical-align: top;\n",
              "    }\n",
              "\n",
              "    .dataframe thead th {\n",
              "        text-align: right;\n",
              "    }\n",
              "</style>\n",
              "<table border=\"1\" class=\"dataframe\">\n",
              "  <thead>\n",
              "    <tr style=\"text-align: right;\">\n",
              "      <th></th>\n",
              "      <th>budget</th>\n",
              "      <th>first_week</th>\n",
              "      <th>tot_net_gross</th>\n",
              "    </tr>\n",
              "  </thead>\n",
              "  <tbody>\n",
              "    <tr>\n",
              "      <th>count</th>\n",
              "      <td>2354.000000</td>\n",
              "      <td>2466.000000</td>\n",
              "      <td>2466.000000</td>\n",
              "    </tr>\n",
              "    <tr>\n",
              "      <th>mean</th>\n",
              "      <td>15.857508</td>\n",
              "      <td>9.523644</td>\n",
              "      <td>15.169829</td>\n",
              "    </tr>\n",
              "    <tr>\n",
              "      <th>std</th>\n",
              "      <td>29.033149</td>\n",
              "      <td>22.247333</td>\n",
              "      <td>35.586895</td>\n",
              "    </tr>\n",
              "    <tr>\n",
              "      <th>min</th>\n",
              "      <td>0.100000</td>\n",
              "      <td>0.003000</td>\n",
              "      <td>0.023000</td>\n",
              "    </tr>\n",
              "    <tr>\n",
              "      <th>25%</th>\n",
              "      <td>2.500000</td>\n",
              "      <td>0.435000</td>\n",
              "      <td>0.635750</td>\n",
              "    </tr>\n",
              "    <tr>\n",
              "      <th>50%</th>\n",
              "      <td>6.000000</td>\n",
              "      <td>1.871500</td>\n",
              "      <td>3.029000</td>\n",
              "    </tr>\n",
              "    <tr>\n",
              "      <th>75%</th>\n",
              "      <td>18.000000</td>\n",
              "      <td>6.737500</td>\n",
              "      <td>12.328750</td>\n",
              "    </tr>\n",
              "    <tr>\n",
              "      <th>max</th>\n",
              "      <td>575.000000</td>\n",
              "      <td>246.470000</td>\n",
              "      <td>510.360000</td>\n",
              "    </tr>\n",
              "  </tbody>\n",
              "</table>\n",
              "</div>"
            ],
            "text/plain": [
              "            budget   first_week  tot_net_gross\n",
              "count  2354.000000  2466.000000    2466.000000\n",
              "mean     15.857508     9.523644      15.169829\n",
              "std      29.033149    22.247333      35.586895\n",
              "min       0.100000     0.003000       0.023000\n",
              "25%       2.500000     0.435000       0.635750\n",
              "50%       6.000000     1.871500       3.029000\n",
              "75%      18.000000     6.737500      12.328750\n",
              "max     575.000000   246.470000     510.360000"
            ]
          },
          "metadata": {
            "tags": []
          },
          "execution_count": 169
        }
      ]
    },
    {
      "cell_type": "code",
      "metadata": {
        "id": "aD2E5Szeikxv",
        "colab_type": "code",
        "colab": {
          "base_uri": "https://localhost:8080/",
          "height": 476
        },
        "outputId": "4f83e9cc-e443-4052-a8cc-648c0c6efc77"
      },
      "source": [
        "# Option 2 - imputing values for rows missing\n",
        "# budget values. The imputed values are based on\n",
        "# mean budget values for each 'verdict_rank'\n",
        "print('Original dataframe')\n",
        "print(df_sm.groupby('verdict_rank')[['budget']].agg(['mean','median','count']),'\\n')\n",
        "print('With rows missing first_week revenues')\n",
        "print(df_sm_miss.groupby('verdict_rank')[['budget']].agg(['mean','median','count']))"
      ],
      "execution_count": 170,
      "outputs": [
        {
          "output_type": "stream",
          "text": [
            "Original dataframe\n",
            "                 budget             \n",
            "                   mean median count\n",
            "verdict_rank                        \n",
            "1              5.793394   2.00  1560\n",
            "2             16.177686   7.75   644\n",
            "3             17.383663   9.50   101\n",
            "4             19.617803  11.00   132\n",
            "5             26.372549  13.00   102\n",
            "6             33.639015  20.50   132\n",
            "7             41.203472  24.50    72\n",
            "8             63.755952  41.50    42\n",
            "9             73.416667  48.00    12 \n",
            "\n",
            "With rows missing first_week revenues\n",
            "                 budget             \n",
            "                   mean median count\n",
            "verdict_rank                        \n",
            "1              7.819864    4.0  1140\n",
            "2             16.558156    8.0   629\n",
            "3             18.088144    9.5    97\n",
            "4             20.068217   12.0   129\n",
            "5             26.631188   13.0   101\n",
            "6             33.639015   20.5   132\n",
            "7             41.203472   24.5    72\n",
            "8             63.755952   41.5    42\n",
            "9             73.416667   48.0    12\n"
          ],
          "name": "stdout"
        }
      ]
    },
    {
      "cell_type": "code",
      "metadata": {
        "id": "NNwsPSj4nZ03",
        "colab_type": "code",
        "colab": {
          "base_uri": "https://localhost:8080/",
          "height": 297
        },
        "outputId": "97d53be1-a07f-47af-b39d-7507b0541fa6"
      },
      "source": [
        "# Substitute median budget from verdict_rank for missing budget values\n",
        "\n",
        "df_sm_miss['budget'] = df_sm_miss.groupby('verdict')['budget'].transform(lambda grp: grp.fillna(np.median(grp)))\n",
        "df_sm_miss_agg = df_sm_miss[['budget','first_week','tot_net_gross']].describe()\n",
        "df_sm_miss_agg"
      ],
      "execution_count": 171,
      "outputs": [
        {
          "output_type": "execute_result",
          "data": {
            "text/html": [
              "<div>\n",
              "<style scoped>\n",
              "    .dataframe tbody tr th:only-of-type {\n",
              "        vertical-align: middle;\n",
              "    }\n",
              "\n",
              "    .dataframe tbody tr th {\n",
              "        vertical-align: top;\n",
              "    }\n",
              "\n",
              "    .dataframe thead th {\n",
              "        text-align: right;\n",
              "    }\n",
              "</style>\n",
              "<table border=\"1\" class=\"dataframe\">\n",
              "  <thead>\n",
              "    <tr style=\"text-align: right;\">\n",
              "      <th></th>\n",
              "      <th>budget</th>\n",
              "      <th>first_week</th>\n",
              "      <th>tot_net_gross</th>\n",
              "    </tr>\n",
              "  </thead>\n",
              "  <tbody>\n",
              "    <tr>\n",
              "      <th>count</th>\n",
              "      <td>2354.000000</td>\n",
              "      <td>2466.000000</td>\n",
              "      <td>2466.000000</td>\n",
              "    </tr>\n",
              "    <tr>\n",
              "      <th>mean</th>\n",
              "      <td>15.857508</td>\n",
              "      <td>9.523644</td>\n",
              "      <td>15.169829</td>\n",
              "    </tr>\n",
              "    <tr>\n",
              "      <th>std</th>\n",
              "      <td>29.033149</td>\n",
              "      <td>22.247333</td>\n",
              "      <td>35.586895</td>\n",
              "    </tr>\n",
              "    <tr>\n",
              "      <th>min</th>\n",
              "      <td>0.100000</td>\n",
              "      <td>0.003000</td>\n",
              "      <td>0.023000</td>\n",
              "    </tr>\n",
              "    <tr>\n",
              "      <th>25%</th>\n",
              "      <td>2.500000</td>\n",
              "      <td>0.435000</td>\n",
              "      <td>0.635750</td>\n",
              "    </tr>\n",
              "    <tr>\n",
              "      <th>50%</th>\n",
              "      <td>6.000000</td>\n",
              "      <td>1.871500</td>\n",
              "      <td>3.029000</td>\n",
              "    </tr>\n",
              "    <tr>\n",
              "      <th>75%</th>\n",
              "      <td>18.000000</td>\n",
              "      <td>6.737500</td>\n",
              "      <td>12.328750</td>\n",
              "    </tr>\n",
              "    <tr>\n",
              "      <th>max</th>\n",
              "      <td>575.000000</td>\n",
              "      <td>246.470000</td>\n",
              "      <td>510.360000</td>\n",
              "    </tr>\n",
              "  </tbody>\n",
              "</table>\n",
              "</div>"
            ],
            "text/plain": [
              "            budget   first_week  tot_net_gross\n",
              "count  2354.000000  2466.000000    2466.000000\n",
              "mean     15.857508     9.523644      15.169829\n",
              "std      29.033149    22.247333      35.586895\n",
              "min       0.100000     0.003000       0.023000\n",
              "25%       2.500000     0.435000       0.635750\n",
              "50%       6.000000     1.871500       3.029000\n",
              "75%      18.000000     6.737500      12.328750\n",
              "max     575.000000   246.470000     510.360000"
            ]
          },
          "metadata": {
            "tags": []
          },
          "execution_count": 171
        }
      ]
    },
    {
      "cell_type": "code",
      "metadata": {
        "id": "0vijKyDWqxxY",
        "colab_type": "code",
        "colab": {
          "base_uri": "https://localhost:8080/",
          "height": 328
        },
        "outputId": "371a2a80-8b1f-4cb5-bcc5-f548945bea54"
      },
      "source": [
        "df_sm_agg = df_sm[['budget','first_week', 'tot_net_gross']].describe()\n",
        "df_agg = pd.concat([df_sm_miss_agg, df_sm_agg], axis=1, keys=('Missing','Original'))\n",
        "df_agg"
      ],
      "execution_count": 172,
      "outputs": [
        {
          "output_type": "execute_result",
          "data": {
            "text/html": [
              "<div>\n",
              "<style scoped>\n",
              "    .dataframe tbody tr th:only-of-type {\n",
              "        vertical-align: middle;\n",
              "    }\n",
              "\n",
              "    .dataframe tbody tr th {\n",
              "        vertical-align: top;\n",
              "    }\n",
              "\n",
              "    .dataframe thead tr th {\n",
              "        text-align: left;\n",
              "    }\n",
              "</style>\n",
              "<table border=\"1\" class=\"dataframe\">\n",
              "  <thead>\n",
              "    <tr>\n",
              "      <th></th>\n",
              "      <th colspan=\"3\" halign=\"left\">Missing</th>\n",
              "      <th colspan=\"3\" halign=\"left\">Original</th>\n",
              "    </tr>\n",
              "    <tr>\n",
              "      <th></th>\n",
              "      <th>budget</th>\n",
              "      <th>first_week</th>\n",
              "      <th>tot_net_gross</th>\n",
              "      <th>budget</th>\n",
              "      <th>first_week</th>\n",
              "      <th>tot_net_gross</th>\n",
              "    </tr>\n",
              "  </thead>\n",
              "  <tbody>\n",
              "    <tr>\n",
              "      <th>count</th>\n",
              "      <td>2354.000000</td>\n",
              "      <td>2466.000000</td>\n",
              "      <td>2466.000000</td>\n",
              "      <td>2797.000000</td>\n",
              "      <td>2466.000000</td>\n",
              "      <td>2963.00000</td>\n",
              "    </tr>\n",
              "    <tr>\n",
              "      <th>mean</th>\n",
              "      <td>15.857508</td>\n",
              "      <td>9.523644</td>\n",
              "      <td>15.169829</td>\n",
              "      <td>13.391911</td>\n",
              "      <td>9.523644</td>\n",
              "      <td>12.64578</td>\n",
              "    </tr>\n",
              "    <tr>\n",
              "      <th>std</th>\n",
              "      <td>29.033149</td>\n",
              "      <td>22.247333</td>\n",
              "      <td>35.586895</td>\n",
              "      <td>27.234132</td>\n",
              "      <td>22.247333</td>\n",
              "      <td>32.94777</td>\n",
              "    </tr>\n",
              "    <tr>\n",
              "      <th>min</th>\n",
              "      <td>0.100000</td>\n",
              "      <td>0.003000</td>\n",
              "      <td>0.023000</td>\n",
              "      <td>0.080000</td>\n",
              "      <td>0.003000</td>\n",
              "      <td>0.00500</td>\n",
              "    </tr>\n",
              "    <tr>\n",
              "      <th>25%</th>\n",
              "      <td>2.500000</td>\n",
              "      <td>0.435000</td>\n",
              "      <td>0.635750</td>\n",
              "      <td>1.250000</td>\n",
              "      <td>0.435000</td>\n",
              "      <td>0.23350</td>\n",
              "    </tr>\n",
              "    <tr>\n",
              "      <th>50%</th>\n",
              "      <td>6.000000</td>\n",
              "      <td>1.871500</td>\n",
              "      <td>3.029000</td>\n",
              "      <td>4.500000</td>\n",
              "      <td>1.871500</td>\n",
              "      <td>1.67500</td>\n",
              "    </tr>\n",
              "    <tr>\n",
              "      <th>75%</th>\n",
              "      <td>18.000000</td>\n",
              "      <td>6.737500</td>\n",
              "      <td>12.328750</td>\n",
              "      <td>14.000000</td>\n",
              "      <td>6.737500</td>\n",
              "      <td>8.96750</td>\n",
              "    </tr>\n",
              "    <tr>\n",
              "      <th>max</th>\n",
              "      <td>575.000000</td>\n",
              "      <td>246.470000</td>\n",
              "      <td>510.360000</td>\n",
              "      <td>575.000000</td>\n",
              "      <td>246.470000</td>\n",
              "      <td>510.36000</td>\n",
              "    </tr>\n",
              "  </tbody>\n",
              "</table>\n",
              "</div>"
            ],
            "text/plain": [
              "           Missing               ...     Original              \n",
              "            budget   first_week  ...   first_week tot_net_gross\n",
              "count  2354.000000  2466.000000  ...  2466.000000    2963.00000\n",
              "mean     15.857508     9.523644  ...     9.523644      12.64578\n",
              "std      29.033149    22.247333  ...    22.247333      32.94777\n",
              "min       0.100000     0.003000  ...     0.003000       0.00500\n",
              "25%       2.500000     0.435000  ...     0.435000       0.23350\n",
              "50%       6.000000     1.871500  ...     1.871500       1.67500\n",
              "75%      18.000000     6.737500  ...     6.737500       8.96750\n",
              "max     575.000000   246.470000  ...   246.470000     510.36000\n",
              "\n",
              "[8 rows x 6 columns]"
            ]
          },
          "metadata": {
            "tags": []
          },
          "execution_count": 172
        }
      ]
    },
    {
      "cell_type": "code",
      "metadata": {
        "id": "D6nB4zRrRyjO",
        "colab_type": "code",
        "colab": {}
      },
      "source": [
        "# Adjusting for Currency Inflation"
      ],
      "execution_count": 166,
      "outputs": []
    },
    {
      "cell_type": "code",
      "metadata": {
        "id": "szlS_qYlKjPG",
        "colab_type": "code",
        "colab": {
          "base_uri": "https://localhost:8080/",
          "height": 54
        },
        "outputId": "83dbdc66-23f8-44be-f45b-f53aa0b3e1f7"
      },
      "source": [
        "# read consumer price index ratio for years between 1994 & 2019 with base year of 2020\n",
        "df_cpi = pd.read_csv(io.BytesIO(data_to_load['india_cpi_2020.txt']),sep='\\t')\n",
        "\n",
        "# create a dictionary of CPI ratios with year as key\n",
        "dict_cpi = dict(zip(df_cpi.Year, df_cpi.CPI_Ratio))\n",
        "print(dict_cpi)"
      ],
      "execution_count": 165,
      "outputs": [
        {
          "output_type": "stream",
          "text": [
            "{1994: 5.77, 1995: 5.27, 1996: 4.8, 1997: 4.35, 1998: 4.09, 1999: 3.55, 2000: 3.53, 2001: 3.41, 2002: 3.25, 2003: 3.15, 2004: 3.03, 2005: 2.92, 2006: 2.77, 2007: 2.6, 2008: 2.46, 2009: 2.25, 2010: 1.95, 2011: 1.78, 2012: 1.68, 2013: 1.51, 2014: 1.38, 2015: 1.3, 2016: 1.23, 2017: 1.2, 2018: 1.15, 2019: 1.1, 2020: 1.0}\n"
          ],
          "name": "stdout"
        }
      ]
    },
    {
      "cell_type": "code",
      "metadata": {
        "id": "gswJVpZR6fOa",
        "colab_type": "code",
        "colab": {}
      },
      "source": [
        "# adjust budget, first_week, tot_net_gross for inflation\n",
        "for i in range(df_sm_miss.shape[0]):\n",
        "  yr = df_sm_miss.loc[i,'release_year']\n",
        "  cpi_ratio = dict_cpi[yr]\n",
        "  # df_sm.loc[i,'cpi_ratio'] = cpi_ratio\n",
        "  df_sm_miss.loc[i,'budget_adjust'] = round(df_sm_miss.loc[i,'budget']*cpi_ratio,3)\n",
        "  df_sm_miss.loc[i,'first_week_adjust'] = round(df_sm_miss.loc[i,'first_week']*cpi_ratio,3)\n",
        "  df_sm_miss.loc[i,'tot_net_gross_adjust'] = round(df_sm_miss.loc[i,'tot_net_gross']*cpi_ratio,3)"
      ],
      "execution_count": 176,
      "outputs": []
    },
    {
      "cell_type": "code",
      "metadata": {
        "id": "4FiNqIPvLiCO",
        "colab_type": "code",
        "colab": {
          "base_uri": "https://localhost:8080/",
          "height": 357
        },
        "outputId": "8931d95d-f9ab-4fbb-adc2-24e065a145fd"
      },
      "source": [
        " df_sm_miss.info()"
      ],
      "execution_count": 177,
      "outputs": [
        {
          "output_type": "stream",
          "text": [
            "<class 'pandas.core.frame.DataFrame'>\n",
            "RangeIndex: 2466 entries, 0 to 2465\n",
            "Data columns (total 13 columns):\n",
            " #   Column                Non-Null Count  Dtype         \n",
            "---  ------                --------------  -----         \n",
            " 0   film                  2466 non-null   object        \n",
            " 1   id                    2466 non-null   int64         \n",
            " 2   rank                  2466 non-null   int64         \n",
            " 3   release_date          2466 non-null   datetime64[ns]\n",
            " 4   release_year          2466 non-null   int64         \n",
            " 5   verdict               2466 non-null   object        \n",
            " 6   verdict_rank          2466 non-null   int64         \n",
            " 7   budget                2354 non-null   float64       \n",
            " 8   first_week            2466 non-null   float64       \n",
            " 9   tot_net_gross         2466 non-null   float64       \n",
            " 10  budget_adjust         2354 non-null   float64       \n",
            " 11  first_week_adjust     2466 non-null   float64       \n",
            " 12  tot_net_gross_adjust  2466 non-null   float64       \n",
            "dtypes: datetime64[ns](1), float64(6), int64(4), object(2)\n",
            "memory usage: 250.6+ KB\n"
          ],
          "name": "stdout"
        }
      ]
    },
    {
      "cell_type": "code",
      "metadata": {
        "id": "Zdrn24z8Mnh3",
        "colab_type": "code",
        "colab": {}
      },
      "source": [
        "#df_sm.loc[0:,'budget':].describe()\n",
        "df_sm[['budget','budget_adjust','first_week','first_week_adjust','tot_net_gross','tot_net_gross_adjust']].describe()"
      ],
      "execution_count": null,
      "outputs": []
    },
    {
      "cell_type": "code",
      "metadata": {
        "id": "W2cheQCO2D1Y",
        "colab_type": "code",
        "colab": {}
      },
      "source": [
        "df_sm.head()"
      ],
      "execution_count": null,
      "outputs": []
    },
    {
      "cell_type": "code",
      "metadata": {
        "id": "5nwVFsg7KSst",
        "colab_type": "code",
        "colab": {}
      },
      "source": [
        "# note format of release date and financial variables/columns\n",
        "df_sm.head(5)"
      ],
      "execution_count": null,
      "outputs": []
    },
    {
      "cell_type": "code",
      "metadata": {
        "id": "VLXl96J2b61L",
        "colab_type": "code",
        "colab": {}
      },
      "source": [
        "# aggregate stats for all variables/columns\n",
        "df_sm.describe(include = 'all')"
      ],
      "execution_count": null,
      "outputs": []
    },
    {
      "cell_type": "markdown",
      "metadata": {
        "id": "1LkwQNaEXtl8",
        "colab_type": "text"
      },
      "source": [
        ""
      ]
    },
    {
      "cell_type": "code",
      "metadata": {
        "id": "Lbmx54-oyaLU",
        "colab_type": "code",
        "colab": {}
      },
      "source": [
        "# read consumer price index ratio for years between 1994 & 2019 with base year of 2020\n",
        "df_cpi = pd.read_csv(io.BytesIO(data_to_load['india_cpi_2020.txt']),sep='\\t')"
      ],
      "execution_count": null,
      "outputs": []
    },
    {
      "cell_type": "code",
      "metadata": {
        "id": "VFVCdkyaz28F",
        "colab_type": "code",
        "colab": {}
      },
      "source": [
        "# create a dictionary of CPI ratios with year as key\n",
        "dict_cpi = dict(zip(df_cpi.Year, df_cpi.CPI_Ratio))\n",
        "print(dict_cpi)"
      ],
      "execution_count": null,
      "outputs": []
    },
    {
      "cell_type": "code",
      "metadata": {
        "id": "YTOp5kNHKXI-",
        "colab_type": "code",
        "colab": {}
      },
      "source": [
        "# read consumer price index ratio for years between 1994 & 2019 with base year of 2020\n",
        "df_cpi = pd.read_csv(io.BytesIO(data_to_load['india_cpi_2020.txt']),sep='\\t')\n",
        "\n",
        "# create a dictionary of CPI ratios with year as key\n",
        "dict_cpi = dict(zip(df_cpi.Year, df_cpi.CPI_Ratio))\n",
        "print(dict_cpi)"
      ],
      "execution_count": null,
      "outputs": []
    },
    {
      "cell_type": "code",
      "metadata": {
        "id": "0uKILDvVzvjK",
        "colab_type": "code",
        "colab": {}
      },
      "source": [
        "# note years outside study boundaries - 1994 to 2019\n",
        "df_sm.groupby(['release_year']).size()"
      ],
      "execution_count": null,
      "outputs": []
    },
    {
      "cell_type": "code",
      "metadata": {
        "id": "n_Hu7aXsDlWy",
        "colab_type": "code",
        "colab": {}
      },
      "source": [
        "df_sm.head()"
      ],
      "execution_count": null,
      "outputs": []
    },
    {
      "cell_type": "code",
      "metadata": {
        "id": "GCiok90nPuP0",
        "colab_type": "code",
        "colab": {}
      },
      "source": [
        "# roi for first_week_adjust, tot_net_gross_adjust\n",
        "df_ln = df_sm.shape[0]\n",
        "for i in range(0,df_ln):\n",
        "  bud = df_sm.loc[i,'budget_adjust']\n",
        "  first = df_sm.loc[i,'first_week_adjust']\n",
        "  tot = df_sm.loc[i, 'tot_net_gross_adjust']\n",
        "  df_sm.loc[i,'first_week_roi'] = ((first - bud)/bud) * 100\n",
        "  df_sm.loc[i,'tot_net_gross_roi'] = ((tot - bud)/bud) * 100\n",
        "\n",
        "#df_sm.info()\n",
        "df_sm.loc[0:,['first_week_roi','tot_net_gross_roi']].describe()"
      ],
      "execution_count": null,
      "outputs": []
    },
    {
      "cell_type": "code",
      "metadata": {
        "id": "8ruMk9_bkACw",
        "colab_type": "code",
        "colab": {}
      },
      "source": [
        "corr_list = ['budget_adjust','first_week_adjust','tot_net_gross_adjust', 'first_week_roi','tot_net_gross_roi']\n",
        "corr = pd.DataFrame()\n",
        "for var1 in corr_list:\n",
        "    for var2 in corr_list:\n",
        "        corr.loc[var1, var2] = df_sm.corr().loc[var1, var2]\n",
        "sns.heatmap(corr, annot=True);"
      ],
      "execution_count": null,
      "outputs": []
    },
    {
      "cell_type": "code",
      "metadata": {
        "id": "hCSsL0yGc51z",
        "colab_type": "code",
        "colab": {}
      },
      "source": [
        "# box_plot of budget_adjust, first_week_adjust, tot_net_gross_adjust\n",
        "fig, ax = plt.subplots(figsize=(10, 5))\n",
        "df_sm.loc[0:,['budget_adjust','first_week_adjust','tot_net_gross_adjust']].boxplot(vert=False);"
      ],
      "execution_count": null,
      "outputs": []
    },
    {
      "cell_type": "code",
      "metadata": {
        "id": "Zk4vYQwl2toh",
        "colab_type": "code",
        "colab": {}
      },
      "source": [
        "# box_plot of budget_adjust, first_week_adjust, tot_net_gross_adjust\n",
        "fig, ax = plt.subplots(figsize=(10, 5))\n",
        "df_sm.loc[0:,['first_week_roi','tot_net_gross_roi']].boxplot(vert=False);"
      ],
      "execution_count": null,
      "outputs": []
    },
    {
      "cell_type": "code",
      "metadata": {
        "id": "30HjlmNHxy9T",
        "colab_type": "code",
        "colab": {}
      },
      "source": [
        "num_bins = 50\n",
        "col_sel = ['budget_adjust','first_week_adjust','tot_met_gross_adjust']\n",
        "x = df_sm.budget_adjust\n",
        "n, bins, patches = plt.hist(x, num_bins, facecolor='blue', alpha=0.5)"
      ],
      "execution_count": null,
      "outputs": []
    },
    {
      "cell_type": "code",
      "metadata": {
        "id": "uH3BmFzAzR-c",
        "colab_type": "code",
        "colab": {}
      },
      "source": [
        "df_sm.loc[0:,['budget_adjust','first_week_adjust','tot_net_gross_adjust']].hist(bins=50,figsize=(12,3), layout=(1,3));"
      ],
      "execution_count": null,
      "outputs": []
    },
    {
      "cell_type": "code",
      "metadata": {
        "id": "tTj2V-waSMS8",
        "colab_type": "code",
        "colab": {}
      },
      "source": [
        "df_sm.loc[0:,['first_week_roi','tot_net_gross_roi']].hist(bins=50,figsize=(9,3), layout=(1,2));"
      ],
      "execution_count": null,
      "outputs": []
    },
    {
      "cell_type": "code",
      "metadata": {
        "id": "8UGqz3PsHLEq",
        "colab_type": "code",
        "colab": {}
      },
      "source": [
        "from scipy.stats import kurtosis\n",
        "from scipy.stats import skew\n",
        "\n",
        "col_sel = ['budget_adjust','first_week_adjust','tot_net_gross_adjust','first_week_roi','tot_net_gross_roi']\n",
        "for var in col_sel:\n",
        "  data = df_sm[var]\n",
        "  print(var, round(skew(data),3), round(kurtosis(data),3))\n"
      ],
      "execution_count": null,
      "outputs": []
    },
    {
      "cell_type": "code",
      "metadata": {
        "id": "3bkxg6rEOFCc",
        "colab_type": "code",
        "colab": {}
      },
      "source": [
        "def log_trans(column):\n",
        "    y = np.log(column + 1)\n",
        "    return y"
      ],
      "execution_count": null,
      "outputs": []
    },
    {
      "cell_type": "code",
      "metadata": {
        "id": "JVIwsQn0Om0i",
        "colab_type": "code",
        "colab": {}
      },
      "source": [
        "df_sm.loc[0:,'budget_log'] = log_trans(df_sm.budget_adjust)\n",
        "df_sm.loc[0:,'first_week_log'] = log_trans(df_sm.first_week_adjust)\n",
        "df_sm.loc[0:,'tot_net_gross_log'] = log_trans(df_sm.tot_net_gross_adjust)\n",
        "df_sm.loc[0:,['budget_log','first_week_log','tot_net_gross_log']].describe()"
      ],
      "execution_count": null,
      "outputs": []
    },
    {
      "cell_type": "code",
      "metadata": {
        "id": "bqv-vrnip1P0",
        "colab_type": "code",
        "colab": {}
      },
      "source": [
        "col_sel = ['budget_log','first_week_log','tot_net_gross_log']\n",
        "for var in col_sel:\n",
        "  data = df_sm[var]\n",
        "  print(var, round(skew(data),3), round(kurtosis(data),3))"
      ],
      "execution_count": null,
      "outputs": []
    },
    {
      "cell_type": "code",
      "metadata": {
        "id": "51ljg7kdrsoQ",
        "colab_type": "code",
        "colab": {}
      },
      "source": [
        "df_sm.loc[0:,['budget_log','first_week_log','tot_net_gross_log']].hist(bins=50,figsize=(12,3), layout=(1,3));"
      ],
      "execution_count": null,
      "outputs": []
    },
    {
      "cell_type": "code",
      "metadata": {
        "id": "nfGCSU7HwLcl",
        "colab_type": "code",
        "colab": {}
      },
      "source": [
        "def znorm(df_col):\n",
        "  df_z = (df_col - df_col.mean())/df_col.std()\n",
        "  return df_z\n",
        "\n",
        "def minmax_norm(df_col):\n",
        "  df_mm = (df_col -df_col.min())/(df_col.max()-df_col.min())\n",
        "  return df_mm"
      ],
      "execution_count": null,
      "outputs": []
    },
    {
      "cell_type": "code",
      "metadata": {
        "id": "MQ76ffUTOxRp",
        "colab_type": "code",
        "colab": {}
      },
      "source": [
        "df_sm.loc[0:,'budget_log_norm'] = minmax_norm(df_sm.budget_log)\n",
        "df_sm.loc[0:,'first_week_log_norm'] = minmax_norm(df_sm.first_week_log)\n",
        "df_sm.loc[0:,'tot_net_gross_log_norm'] = minmax_norm(df_sm.tot_net_gross_log)\n",
        "\n",
        "df_sm.loc[0:,['budget_log_norm','first_week_log_norm','tot_net_gross_log_norm']].describe()"
      ],
      "execution_count": null,
      "outputs": []
    },
    {
      "cell_type": "code",
      "metadata": {
        "id": "7h7nOiJzxhNb",
        "colab_type": "code",
        "colab": {}
      },
      "source": [
        "col_sel = ['budget_log_norm','first_week_log_norm','tot_net_gross_log_norm']\n",
        "for var in col_sel:\n",
        "  data = df_sm[var]\n",
        "  print(var, round(skew(data),3), round(kurtosis(data),3))"
      ],
      "execution_count": null,
      "outputs": []
    },
    {
      "cell_type": "code",
      "metadata": {
        "id": "W0BzJeeMwwup",
        "colab_type": "code",
        "colab": {}
      },
      "source": [
        "df_sm.loc[0:,['budget_log_norm','first_week_log_norm','tot_net_gross_log_norm']].hist(bins=50,figsize=(12,3), layout=(1,3));"
      ],
      "execution_count": null,
      "outputs": []
    },
    {
      "cell_type": "code",
      "metadata": {
        "id": "nSz_cjojx8d-",
        "colab_type": "code",
        "colab": {}
      },
      "source": [
        "# Success where measures are ordinal variables - converted to numerical values\n",
        "\n",
        "# first measure based on rankings assigned by BOI (partially based on gross revenues and roi)\n",
        "# verdict_rank - 1-9 based on verdict ('Disaster' = 1 ... 'All Time Blockbuster' = 9)\n",
        " \n",
        "verdict_dict = {'All Time Blockbuster':9,'Blockbuster':8, 'Super Hit':7, 'Hit':6, 'Semi Hit':5, 'Average':4, 'Below Average':3, 'Flop':2, 'Disaster':1}\n",
        "\n",
        "for i in range(0,df_ln):\n",
        "  df_sm.loc[i,'verdict_rank'] = verdict_dict[df_sm.loc[i,'verdict']]\n",
        "\n",
        "# Frequency of verdict_ranks in sorted order\n",
        "df_sm.verdict_rank.value_counts(sort=False)"
      ],
      "execution_count": null,
      "outputs": []
    },
    {
      "cell_type": "code",
      "metadata": {
        "id": "VM1uOeGD2VON",
        "colab_type": "code",
        "colab": {}
      },
      "source": [
        "ax = sns.countplot(x=\"verdict_rank\",data=df_sm)"
      ],
      "execution_count": null,
      "outputs": []
    },
    {
      "cell_type": "code",
      "metadata": {
        "id": "YwcHPGVm55Ga",
        "colab_type": "code",
        "colab": {}
      },
      "source": [
        "# Success based on profit = \n",
        "for i in range(0,df_ln):\n",
        "  revenue = df_sm.loc[i,'tot_net_gross_adjust']\n",
        "  budget = df_sm.loc[i,'budget_adjust']\n",
        "  profit = (.8 * revenue) - budget\n",
        "  if profit > 0:\n",
        "    df_sm.loc[i,'success_flop'] = 1 # success\n",
        "  else:\n",
        "    df_sm.loc[i,'success_flop'] = 0 # flop\n",
        "\n",
        "df_sm.success_flop.value_counts()"
      ],
      "execution_count": null,
      "outputs": []
    },
    {
      "cell_type": "code",
      "metadata": {
        "id": "FcTYlqEh8B7Z",
        "colab_type": "code",
        "colab": {}
      },
      "source": [
        "ax = sns.countplot(x=\"success_flop\",data=df_sm);"
      ],
      "execution_count": null,
      "outputs": []
    },
    {
      "cell_type": "code",
      "metadata": {
        "id": "2HA1pEmT8MVU",
        "colab_type": "code",
        "colab": {}
      },
      "source": [
        "# Success measured by profit ratio = gross_rev/budget\n",
        "# 3 ordinal values: low = profit ratio - < 1.0; moderate - profit ratio >= 1.0 and < 2.0; high - >= 2.0\n",
        "\n",
        "for i in range(0,df_ln):\n",
        "  revenue = df_sm.loc[i,'tot_net_gross_adjust']\n",
        "  budget = df_sm.loc[i,'budget_adjust']\n",
        "  profit_ratio = revenue/budget\n",
        "  if profit_ratio < 1.0:\n",
        "    df_sm.loc[i,'profit_ratio'] = 1 # low grossing\n",
        "  elif profit_ratio >= 2.0:\n",
        "    df_sm.loc[i,'profit_ratio'] = 3 # high grossing\n",
        "  else:\n",
        "    df_sm.loc[i,'profit_ratio'] = 2 # moderate grossing\n",
        "\n",
        "df_sm.profit_ratio.value_counts()"
      ],
      "execution_count": null,
      "outputs": []
    },
    {
      "cell_type": "code",
      "metadata": {
        "id": "QHj4AV119NlV",
        "colab_type": "code",
        "colab": {}
      },
      "source": [
        "ax = sns.countplot(x=\"rev_grossing\",data=df_sm);"
      ],
      "execution_count": null,
      "outputs": []
    },
    {
      "cell_type": "code",
      "metadata": {
        "id": "XAthHwIxtmiE",
        "colab_type": "code",
        "colab": {}
      },
      "source": [
        "var_list = ['success_flop','rev_grossing','verdict_rank','success_flop','rev_grossing']\n",
        "for i in range(0,2):\n",
        "  var1= var_list[i]\n",
        "  for j in range(i+1,3):\n",
        "    var2 = var_list[j]\n",
        "    print(pd.crosstab(df_sm.loc[0:,var1],df_sm.loc[0:,var2], dropna = False, margins = True),'\\n')\n"
      ],
      "execution_count": null,
      "outputs": []
    },
    {
      "cell_type": "code",
      "metadata": {
        "id": "ZaaF6n2W9Zuo",
        "colab_type": "code",
        "colab": {}
      },
      "source": [
        "from scipy import stats\n",
        "\n",
        "corr = pd.DataFrame()\n",
        "for var1 in var_list:\n",
        "    for var2 in corr_list:\n",
        "        rho, pval = stats.spearmanr(df_sm.loc[0:,var1],df_sm.loc[0:,var2])\n",
        "        corr.loc[var1, var2] = rho\n",
        "sns.heatmap(corr, annot=True);\n"
      ],
      "execution_count": null,
      "outputs": []
    },
    {
      "cell_type": "code",
      "metadata": {
        "id": "qeD1aRoVseEO",
        "colab_type": "code",
        "colab": {}
      },
      "source": [
        "# success_flop, rev_grossing, verdict_rank by 5 year groups\n",
        "yr_limits = [(1994,2000,1995),(2000,2005,2000),(2005,2010, 2005),(2010,2015,2010),(2015,2020,2015)]\n",
        "\n",
        "for i in range(0,df_ln):\n",
        "  for yr_tup in yr_limits:\n",
        "    if (df_sm.loc[i,'release_year'] >= yr_tup[0] and df_sm.loc[i,'release_year'] < yr_tup[1]):\n",
        "      #print(i,df_sm.loc[i,'release_year'],yr_tup[0],yr_tup[2])\n",
        "      df_sm.loc[i,'5yr'] = yr_tup[2]\n",
        "      \n",
        "df_sm.groupby('5yr')['5yr'].count()\n"
      ],
      "execution_count": null,
      "outputs": []
    },
    {
      "cell_type": "code",
      "metadata": {
        "id": "FbG-gif6IoJJ",
        "colab_type": "code",
        "colab": {}
      },
      "source": [
        "# regardless of the ordinal variable, the percentage of poorly performing movies remained relatively\n",
        "# the same from 2000 on.\n",
        "pd.crosstab(df_sm.loc[0:,'5yr'],df_sm.loc[0:,'verdict_rank'], dropna = False, margins = True, normalize='index')"
      ],
      "execution_count": null,
      "outputs": []
    },
    {
      "cell_type": "code",
      "metadata": {
        "id": "Gxkup2hLKda2",
        "colab_type": "code",
        "colab": {}
      },
      "source": [
        "df_sm.groupby('5yr')['tot_net_gross_adjust','budget_adjust','tot_net_gross_roi'].mean()"
      ],
      "execution_count": null,
      "outputs": []
    }
  ]
}